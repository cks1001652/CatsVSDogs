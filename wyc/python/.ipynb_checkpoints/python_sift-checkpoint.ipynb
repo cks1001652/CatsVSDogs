{
 "cells": [
  {
   "cell_type": "code",
   "execution_count": 2,
   "metadata": {
    "collapsed": false
   },
   "outputs": [],
   "source": [
    "import cv2\n",
    "import numpy as np\n",
    "import scipy\n",
    "import os\n",
    "import time\n",
    "from scipy.cluster.vq import *\n"
   ]
  },
  {
   "cell_type": "code",
   "execution_count": 6,
   "metadata": {
    "collapsed": false
   },
   "outputs": [],
   "source": [
    "detect = cv2.xfeatures2d.SIFT_create()\n",
    "\n",
    "extract = cv2.xfeatures2d.SIFT_create()\n",
    "def getimagedata(path):\n",
    "  train_names = os.listdir(path)\n",
    "  train_names = train_names[0:len(train_names)+1]\n",
    "  image_paths=[]\n",
    "  image_classes = []\n",
    "  class_id =0\n",
    "  for train_name in train_names:\n",
    "    dir = os.path.join(path,train_name)\n",
    "  #   class_path = [os.path.join(dir,f) for f in os.listdir(dir)]\n",
    "    image_paths.append(dir)\n",
    "  #   image_classes += [class_id]*len(class_path)\n",
    "  #   class_id +=1\n",
    "  return image_paths\n",
    "\n",
    "\n",
    "# sift extraction\n",
    "def siftprocessimage(image_paths):\n",
    "#     global descriptors\n",
    "    image_paths[0]\n",
    "    im = cv2.imread(image_paths[0])\n",
    "    gray= cv2.cvtColor(im,cv2.COLOR_BGR2GRAY)\n",
    "    kpts =detect.detect(gray)\n",
    "    kpts,des = extract.compute(im,kpts)\n",
    "    descriptors = np.array(des)\n",
    "    count=0\n",
    "    for image_path in image_paths[1:]:\n",
    "        if count % 100==0:\n",
    "            print count\n",
    "        im = cv2.imread(image_path)\n",
    "        gray= cv2.cvtColor(im,cv2.COLOR_BGR2GRAY)\n",
    "        kpts =detect.detect(gray)\n",
    "        kpts,des = extract.compute(im,kpts)\n",
    "        descriptors = np.vstack([descriptors, np.array(des)])\n",
    "        count+=1\n",
    "    return descriptors\n",
    "\n",
    "\n",
    "\n",
    "def getdata(feature_det,bow_extract,path):\n",
    "    im = cv2.imread(path)\n",
    "    featureset = bow_extract.compute(im, feature_det.detect(im))\n",
    "    return featureset   \n",
    "\n",
    "def train(descriptors,image_paths,voc):\n",
    "    flann_p=dict(algorithm = 1, tree = 5)\n",
    "    matcher = cv2.FlannBasedMatcher(flann_p,{})\n",
    "    bow_extract  =cv2.BOWImgDescriptorExtractor(extract,matcher)\n",
    "#   bow_train = cv2.BOWKMeansTrainer(5)\n",
    "    bow_extract.setVocabulary(voc)\n",
    "    traindata = []\n",
    "    count=0\n",
    "    for image_path in image_paths:\n",
    "    #     im = cv2.imread(image_path)\n",
    "        if count % 100==0:\n",
    "            print count\n",
    "        featureset = getdata(detect,bow_extract,image_path)\n",
    "        traindata.extend(featureset)\n",
    "        count+=1\n",
    "    return traindata\n",
    "\n"
   ]
  },
  {
   "cell_type": "code",
   "execution_count": 15,
   "metadata": {
    "collapsed": false
   },
   "outputs": [
    {
     "name": "stdout",
     "output_type": "stream",
     "text": [
      "0.0797197818756\n"
     ]
    }
   ],
   "source": [
    "path ='../data/'\n",
    "start=time.time()\n",
    "r1=getimagedata(path)\n",
    "end=time.time()\n",
    "print ((end-start))"
   ]
  },
  {
   "cell_type": "code",
   "execution_count": 18,
   "metadata": {
    "collapsed": false
   },
   "outputs": [
    {
     "name": "stdout",
     "output_type": "stream",
     "text": [
      "1225.96923804\n"
     ]
    }
   ],
   "source": [
    "start=time.time()\n",
    "r2=siftprocessimage(r1)\n",
    "end=time.time()\n",
    "print ((end-start))"
   ]
  },
  {
   "cell_type": "code",
   "execution_count": 207,
   "metadata": {
    "collapsed": false
   },
   "outputs": [
    {
     "name": "stdout",
     "output_type": "stream",
     "text": [
      "10.0711606344\n"
     ]
    }
   ],
   "source": [
    "start=time.time()\n",
    "test=siftprocessimage(r1)\n",
    "end=time.time()\n",
    "print (end-start)/60\n"
   ]
  },
  {
   "cell_type": "code",
   "execution_count": null,
   "metadata": {
    "collapsed": true
   },
   "outputs": [],
   "source": [
    "start=time.time()\n",
    "voc,var=kmeans(test,1000,1)\n",
    "voc\n",
    "end=time.time()\n",
    "print (end-start)/60\n"
   ]
  },
  {
   "cell_type": "code",
   "execution_count": 223,
   "metadata": {
    "collapsed": false
   },
   "outputs": [
    {
     "name": "stdout",
     "output_type": "stream",
     "text": [
      "0\n",
      "100\n",
      "200\n",
      "300\n",
      "400\n",
      "500\n",
      "600\n",
      "700\n",
      "800\n",
      "900\n",
      "179.451289892\n"
     ]
    }
   ],
   "source": [
    "\n",
    "start=time.time()\n",
    "test3=train(test,r1[0:1000],voc)\n",
    "end=time.time()\n",
    "print (end-start)/60\n",
    "\n"
   ]
  },
  {
   "cell_type": "code",
   "execution_count": 219,
   "metadata": {
    "collapsed": false
   },
   "outputs": [],
   "source": [
    "\n",
    "f=open('featuresift.txt','w')\n",
    "for i in test3:\n",
    "  a=str(i.tolist())\n",
    "  f.write(a+'\\n')\n",
    "    \n",
    "f.close()\n",
    "\n"
   ]
  },
  {
   "cell_type": "code",
   "execution_count": 224,
   "metadata": {
    "collapsed": false
   },
   "outputs": [
    {
     "name": "stdout",
     "output_type": "stream",
     "text": [
      "0.0768640041351\n",
      "178.351387767\n"
     ]
    }
   ],
   "source": [
    "path ='../data/'\n",
    "start=time.time()\n",
    "r1=getimagedata(path)\n",
    "end=time.time()\n",
    "print ((end-start))\n",
    "\n",
    "start=time.time()\n",
    "r2=siftprocessimage(r1)\n",
    "end=time.time()\n",
    "print (end-start)/60\n",
    "\n",
    "# start=time.time()\n",
    "# voc,var=kmeans(r2,1000,1)\n",
    "# voc\n",
    "# end=time.time()\n",
    "# print (end-start)/60\n",
    "\n",
    "# start=time.time()\n",
    "# test3=train(r2,r1,voc)\n",
    "# end=time.time()\n",
    "# print ((end-start))\n",
    "\n",
    "\n",
    "# f=open('featuresift.txt','w')\n",
    "# for i in test3:\n",
    "#   a=str(i.tolist())\n",
    "#   f.write(a+'\\n')\n",
    "    \n",
    "# f.close()"
   ]
  },
  {
   "cell_type": "code",
   "execution_count": 230,
   "metadata": {
    "collapsed": false
   },
   "outputs": [
    {
     "data": {
      "text/plain": [
       "array([   3.,   29.,   26.,   35.,   15.,   11.,    2.,    1.,   63.,\n",
       "        105.,    4.,    0.,    0.,    0.,    1.,   15.,   56.,   48.,\n",
       "         11.,   36.,   18.,    1.,    0.,   19.,    3.,   14.,  118.,\n",
       "         97.,   45.,   13.,    4.,    2.,    2.,    7.,    1.,    3.,\n",
       "         38.,   56.,    6.,    0.,   44.,  118.,    3.,    3.,   11.,\n",
       "          7.,    2.,    3.,  102.,  118.,    6.,   14.,   21.,   16.,\n",
       "         14.,   21.,    9.,    2.,   10.,   30.,   57.,  103.,  118.,\n",
       "         22.,    1.,    1.,    1.,   25.,   91.,   22.,    0.,    0.,\n",
       "         52.,   22.,    4.,   13.,   20.,    1.,    1.,   42.,  118.,\n",
       "         79.,   51.,    2.,    0.,    1.,    7.,   45.,   26.,   73.,\n",
       "        118.,    0.,    0.,    7.,   81.,   23.,    1.,    7.,    7.,\n",
       "         38.,  118.,    8.,    0.,    0.,   20.,   81.,   38.,   19.,\n",
       "         11.,    2.,    0.,    5.,   12.,   42.,  118.,   65.,    1.,\n",
       "          0.,    0.,    2.,    2.,   94.,  118.,    8.,    0.,    0.,\n",
       "          0.,    0.], dtype=float32)"
      ]
     },
     "execution_count": 230,
     "metadata": {},
     "output_type": "execute_result"
    }
   ],
   "source": [
    "r2[1]\n",
    "# import cPickle as pickle\n",
    "# pickle.dump(r2[:5000],open(\"r2_5000.p\",\"wb\"))\n",
    "# pickle.dump(r2[5000:],open(\"r2_2377.p\",\"wb\"))"
   ]
  },
  {
   "cell_type": "code",
   "execution_count": 231,
   "metadata": {
    "collapsed": false
   },
   "outputs": [
    {
     "name": "stdout",
     "output_type": "stream",
     "text": [
      "36.005601867\n"
     ]
    }
   ],
   "source": [
    "start=time.time()\n",
    "voc,var=kmeans(r2[:1619587],500,1)\n",
    "voc\n",
    "end=time.time()\n",
    "print (end-start)/60\n",
    "\n"
   ]
  },
  {
   "cell_type": "code",
   "execution_count": 232,
   "metadata": {
    "collapsed": false
   },
   "outputs": [
    {
     "name": "stdout",
     "output_type": "stream",
     "text": [
      "0\n",
      "100\n",
      "200\n",
      "300\n",
      "400\n",
      "500\n",
      "600\n",
      "700\n",
      "800\n",
      "900\n",
      "1000\n",
      "1100\n",
      "1200\n",
      "1300\n",
      "1400\n",
      "1500\n",
      "1600\n",
      "1700\n",
      "1800\n",
      "1900\n",
      "0\n",
      "100\n",
      "200\n",
      "300\n",
      "400\n",
      "500\n",
      "600\n",
      "700\n",
      "800\n",
      "900\n",
      "1000\n",
      "1100\n",
      "1200\n",
      "1300\n",
      "1400\n",
      "1500\n",
      "1600\n",
      "1700\n",
      "1800\n",
      "1900\n",
      "2000\n",
      "2100\n",
      "2200\n",
      "2300\n",
      "2400\n",
      "2500\n",
      "2600\n",
      "2700\n",
      "2800\n",
      "2900\n",
      "3000\n",
      "3100\n",
      "3200\n",
      "3300\n",
      "3400\n",
      "3500\n",
      "3600\n",
      "3700\n",
      "3800\n",
      "3900\n",
      "4000\n",
      "4100\n",
      "4200\n",
      "4300\n",
      "4400\n",
      "4500\n",
      "4600\n",
      "4700\n",
      "4800\n",
      "4900\n",
      "5000\n",
      "5100\n",
      "5200\n",
      "5300\n",
      "1275.13391304\n"
     ]
    }
   ],
   "source": [
    "start=time.time()\n",
    "r3_2000=train(r2[:1619587],r1[:2000],voc)\n",
    "r3_5377=train(r2[1619587:],r1[2000:],voc)\n",
    "end=time.time()\n",
    "print ((end-start))\n",
    "\n"
   ]
  },
  {
   "cell_type": "code",
   "execution_count": 236,
   "metadata": {
    "collapsed": false
   },
   "outputs": [],
   "source": [
    "\n",
    "\n",
    "\n",
    "f=open('featuresift_2000.txt','w')\n",
    "for i in r3_2000:\n",
    "  a=str(i.tolist())\n",
    "  f.write(a+'\\n')\n",
    "    \n",
    "f.close()\n",
    "\n",
    "f=open('featuresift_5377.txt','w')\n",
    "for i in r3_5377:\n",
    "  a=str(i.tolist())\n",
    "  f.write(a+'\\n')\n",
    "    \n",
    "f.close()"
   ]
  },
  {
   "cell_type": "code",
   "execution_count": 235,
   "metadata": {
    "collapsed": true
   },
   "outputs": [],
   "source": [
    "# r3_2000=r3_5000\n",
    "# r3_5377=r3_2377"
   ]
  },
  {
   "cell_type": "code",
   "execution_count": null,
   "metadata": {
    "collapsed": false
   },
   "outputs": [
    {
     "name": "stderr",
     "output_type": "stream",
     "text": [
      "/Users/cheeseloveicecream/.virtualenvs/cv/lib/python2.7/site-packages/scipy/cluster/vq.py:659: UserWarning: One of the clusters is empty. Re-run kmean with a different initialization.\n",
      "  warnings.warn(\"One of the clusters is empty. \"\n"
     ]
    },
    {
     "name": "stdout",
     "output_type": "stream",
     "text": [
      "194.600632215\n",
      "0\n",
      "100\n",
      "200\n",
      "300\n",
      "400\n",
      "500\n",
      "600\n",
      "700\n",
      "800\n",
      "900\n",
      "1000\n",
      "1100\n",
      "1200\n",
      "1300\n",
      "1400\n",
      "1500\n",
      "1600\n",
      "1700\n",
      "1800\n",
      "1900\n",
      "0\n",
      "100\n",
      "200\n",
      "300\n",
      "400\n",
      "500\n",
      "600\n",
      "700\n",
      "800\n",
      "900\n",
      "1000\n",
      "1100\n",
      "1200\n",
      "1300\n",
      "1400\n",
      "1500\n",
      "1600\n",
      "1700\n",
      "1800\n",
      "1900\n",
      "2000\n",
      "2100\n",
      "2200\n",
      "2300\n",
      "2400\n",
      "2500\n",
      "2600\n",
      "2700\n",
      "2800\n",
      "2900\n",
      "3000\n",
      "3100\n",
      "3200\n",
      "3300\n",
      "3400\n",
      "3500\n",
      "3600\n",
      "3700\n",
      "3800\n",
      "3900\n",
      "4000\n",
      "4100\n",
      "4200\n",
      "4300\n",
      "4400\n",
      "4500\n",
      "4600\n",
      "4700\n",
      "4800\n",
      "4900\n",
      "5000\n",
      "5100\n",
      "5200\n",
      "5300\n",
      "1262.69823289\n"
     ]
    }
   ],
   "source": [
    "start=time.time()\n",
    "voc,var=kmeans2(r2[:1619587],2000,1)\n",
    "voc\n",
    "end=time.time()\n",
    "print (end-start)/60\n",
    "\n",
    "\n",
    "start=time.time()\n",
    "r3_2000=train(r2[:1619587],r1[:2000],voc)\n",
    "r3_5377=train(r2[1619587:],r1[2000:],voc)\n",
    "end=time.time()\n",
    "print ((end-start))\n",
    "\n",
    "f=open('featuresift_2000_2000.txt','w')\n",
    "for i in r3_2000:\n",
    "  a=str(i.tolist())\n",
    "  f.write(a+'\\n')\n",
    "    \n",
    "f.close()\n",
    "\n",
    "f=open('featuresift_5377_2000.txt','w')\n",
    "for i in r3_5377:\n",
    "  a=str(i.tolist())\n",
    "  f.write(a+'\\n')\n",
    "    \n",
    "f.close()"
   ]
  },
  {
   "cell_type": "code",
   "execution_count": 4,
   "metadata": {
    "collapsed": false
   },
   "outputs": [
    {
     "ename": "NameError",
     "evalue": "name 'r2' is not defined",
     "output_type": "error",
     "traceback": [
      "\u001b[0;31m---------------------------------------------------------------------------\u001b[0m",
      "\u001b[0;31mNameError\u001b[0m                                 Traceback (most recent call last)",
      "\u001b[0;32m<ipython-input-4-913e5b82dfd4>\u001b[0m in \u001b[0;36m<module>\u001b[0;34m()\u001b[0m\n\u001b[1;32m      1\u001b[0m \u001b[0mstart\u001b[0m\u001b[0;34m=\u001b[0m\u001b[0mtime\u001b[0m\u001b[0;34m.\u001b[0m\u001b[0mtime\u001b[0m\u001b[0;34m(\u001b[0m\u001b[0;34m)\u001b[0m\u001b[0;34m\u001b[0m\u001b[0m\n\u001b[0;32m----> 2\u001b[0;31m \u001b[0mvocc\u001b[0m\u001b[0;34m,\u001b[0m\u001b[0mvar\u001b[0m\u001b[0;34m=\u001b[0m\u001b[0mkmeans2\u001b[0m\u001b[0;34m(\u001b[0m\u001b[0mr2\u001b[0m\u001b[0;34m[\u001b[0m\u001b[0;34m:\u001b[0m\u001b[0;36m1619587\u001b[0m\u001b[0;34m]\u001b[0m\u001b[0;34m,\u001b[0m\u001b[0;36m1000\u001b[0m\u001b[0;34m,\u001b[0m\u001b[0;36m1\u001b[0m\u001b[0;34m)\u001b[0m\u001b[0;34m\u001b[0m\u001b[0m\n\u001b[0m\u001b[1;32m      3\u001b[0m \u001b[0mvocc\u001b[0m\u001b[0;34m\u001b[0m\u001b[0m\n\u001b[1;32m      4\u001b[0m \u001b[0mend\u001b[0m\u001b[0;34m=\u001b[0m\u001b[0mtime\u001b[0m\u001b[0;34m.\u001b[0m\u001b[0mtime\u001b[0m\u001b[0;34m(\u001b[0m\u001b[0;34m)\u001b[0m\u001b[0;34m\u001b[0m\u001b[0m\n\u001b[1;32m      5\u001b[0m \u001b[0;32mprint\u001b[0m \u001b[0;34m(\u001b[0m\u001b[0mend\u001b[0m\u001b[0;34m-\u001b[0m\u001b[0mstart\u001b[0m\u001b[0;34m)\u001b[0m\u001b[0;34m/\u001b[0m\u001b[0;36m60\u001b[0m\u001b[0;34m\u001b[0m\u001b[0m\n",
      "\u001b[0;31mNameError\u001b[0m: name 'r2' is not defined"
     ]
    }
   ],
   "source": [
    "start=time.time()\n",
    "vocc,var=kmeans2(r2[:1619587],1000,1)\n",
    "vocc\n",
    "end=time.time()\n",
    "print (end-start)/60\n",
    "\n",
    "\n",
    "start=time.time()\n",
    "r3_2000=train(r2[:1619587],r1[:2000],vocc)\n",
    "r3_5377=train(r2[1619587:],r1[2000:],vocc)\n",
    "end=time.time()\n",
    "print ((end-start))\n",
    "\n",
    "f=open('featuresift_2000_1000.txt','w')\n",
    "for i in r3_2000:\n",
    "  a=str(i.tolist())\n",
    "  f.write(a+'\\n')\n",
    "    \n",
    "f.close()\n",
    "\n",
    "f=open('featuresift_5377_1000.txt','w')\n",
    "for i in r3_5377:\n",
    "  a=str(i.tolist())\n",
    "  f.write(a+'\\n')\n",
    "    \n",
    "f.close()"
   ]
  },
  {
   "cell_type": "code",
   "execution_count": 7,
   "metadata": {
    "collapsed": false
   },
   "outputs": [
    {
     "name": "stdout",
     "output_type": "stream",
     "text": [
      "0.1062541008\n"
     ]
    }
   ],
   "source": [
    "path ='../data/'\n",
    "start=time.time()\n",
    "r1=getimagedata(path)\n",
    "end=time.time()\n",
    "print ((end-start))"
   ]
  },
  {
   "cell_type": "code",
   "execution_count": 8,
   "metadata": {
    "collapsed": false
   },
   "outputs": [
    {
     "name": "stdout",
     "output_type": "stream",
     "text": [
      "0\n",
      "100\n",
      "200\n",
      "300\n",
      "400\n",
      "500\n",
      "600\n",
      "700\n",
      "800\n",
      "900\n",
      "1000\n",
      "1100\n",
      "1200\n",
      "1300\n",
      "1400\n",
      "1500\n",
      "1600\n",
      "1700\n",
      "1800\n",
      "1900\n",
      "13.2534792821\n",
      "0\n"
     ]
    },
    {
     "ename": "KeyboardInterrupt",
     "evalue": "",
     "output_type": "error",
     "traceback": [
      "\u001b[0;31m---------------------------------------------------------------------------\u001b[0m",
      "\u001b[0;31mKeyboardInterrupt\u001b[0m                         Traceback (most recent call last)",
      "\u001b[0;32m<ipython-input-8-3ae00a66d52f>\u001b[0m in \u001b[0;36m<module>\u001b[0;34m()\u001b[0m\n\u001b[1;32m      5\u001b[0m \u001b[0;34m\u001b[0m\u001b[0m\n\u001b[1;32m      6\u001b[0m \u001b[0mstart\u001b[0m\u001b[0;34m=\u001b[0m\u001b[0mtime\u001b[0m\u001b[0;34m.\u001b[0m\u001b[0mtime\u001b[0m\u001b[0;34m(\u001b[0m\u001b[0;34m)\u001b[0m\u001b[0;34m\u001b[0m\u001b[0m\n\u001b[0;32m----> 7\u001b[0;31m \u001b[0mr2_5377\u001b[0m\u001b[0;34m=\u001b[0m\u001b[0msiftprocessimage\u001b[0m\u001b[0;34m(\u001b[0m\u001b[0mr1\u001b[0m\u001b[0;34m[\u001b[0m\u001b[0;36m2000\u001b[0m\u001b[0;34m:\u001b[0m\u001b[0;34m]\u001b[0m\u001b[0;34m)\u001b[0m\u001b[0;34m\u001b[0m\u001b[0m\n\u001b[0m\u001b[1;32m      8\u001b[0m \u001b[0mend\u001b[0m\u001b[0;34m=\u001b[0m\u001b[0mtime\u001b[0m\u001b[0;34m.\u001b[0m\u001b[0mtime\u001b[0m\u001b[0;34m(\u001b[0m\u001b[0;34m)\u001b[0m\u001b[0;34m\u001b[0m\u001b[0m\n\u001b[1;32m      9\u001b[0m \u001b[0;32mprint\u001b[0m \u001b[0;34m(\u001b[0m\u001b[0mend\u001b[0m\u001b[0;34m-\u001b[0m\u001b[0mstart\u001b[0m\u001b[0;34m)\u001b[0m\u001b[0;34m/\u001b[0m\u001b[0;36m60\u001b[0m\u001b[0;34m\u001b[0m\u001b[0m\n",
      "\u001b[0;32m<ipython-input-6-18608a45c412>\u001b[0m in \u001b[0;36msiftprocessimage\u001b[0;34m(image_paths)\u001b[0m\n\u001b[1;32m     33\u001b[0m         \u001b[0mgray\u001b[0m\u001b[0;34m=\u001b[0m \u001b[0mcv2\u001b[0m\u001b[0;34m.\u001b[0m\u001b[0mcvtColor\u001b[0m\u001b[0;34m(\u001b[0m\u001b[0mim\u001b[0m\u001b[0;34m,\u001b[0m\u001b[0mcv2\u001b[0m\u001b[0;34m.\u001b[0m\u001b[0mCOLOR_BGR2GRAY\u001b[0m\u001b[0;34m)\u001b[0m\u001b[0;34m\u001b[0m\u001b[0m\n\u001b[1;32m     34\u001b[0m         \u001b[0mkpts\u001b[0m \u001b[0;34m=\u001b[0m\u001b[0mdetect\u001b[0m\u001b[0;34m.\u001b[0m\u001b[0mdetect\u001b[0m\u001b[0;34m(\u001b[0m\u001b[0mgray\u001b[0m\u001b[0;34m)\u001b[0m\u001b[0;34m\u001b[0m\u001b[0m\n\u001b[0;32m---> 35\u001b[0;31m         \u001b[0mkpts\u001b[0m\u001b[0;34m,\u001b[0m\u001b[0mdes\u001b[0m \u001b[0;34m=\u001b[0m \u001b[0mextract\u001b[0m\u001b[0;34m.\u001b[0m\u001b[0mcompute\u001b[0m\u001b[0;34m(\u001b[0m\u001b[0mim\u001b[0m\u001b[0;34m,\u001b[0m\u001b[0mkpts\u001b[0m\u001b[0;34m)\u001b[0m\u001b[0;34m\u001b[0m\u001b[0m\n\u001b[0m\u001b[1;32m     36\u001b[0m         \u001b[0mdescriptors\u001b[0m \u001b[0;34m=\u001b[0m \u001b[0mnp\u001b[0m\u001b[0;34m.\u001b[0m\u001b[0mvstack\u001b[0m\u001b[0;34m(\u001b[0m\u001b[0;34m[\u001b[0m\u001b[0mdescriptors\u001b[0m\u001b[0;34m,\u001b[0m \u001b[0mnp\u001b[0m\u001b[0;34m.\u001b[0m\u001b[0marray\u001b[0m\u001b[0;34m(\u001b[0m\u001b[0mdes\u001b[0m\u001b[0;34m)\u001b[0m\u001b[0;34m]\u001b[0m\u001b[0;34m)\u001b[0m\u001b[0;34m\u001b[0m\u001b[0m\n\u001b[1;32m     37\u001b[0m         \u001b[0mcount\u001b[0m\u001b[0;34m+=\u001b[0m\u001b[0;36m1\u001b[0m\u001b[0;34m\u001b[0m\u001b[0m\n",
      "\u001b[0;31mKeyboardInterrupt\u001b[0m: "
     ]
    }
   ],
   "source": [
    "start=time.time()\n",
    "r2_2000=siftprocessimage(r1[:2000])\n",
    "end=time.time()\n",
    "print (end-start)/60\n",
    "\n"
   ]
  },
  {
   "cell_type": "code",
   "execution_count": 10,
   "metadata": {
    "collapsed": false
   },
   "outputs": [
    {
     "name": "stdout",
     "output_type": "stream",
     "text": [
      "0\n",
      "100\n",
      "200\n",
      "300\n",
      "400\n",
      "500\n",
      "600\n",
      "700\n",
      "800\n",
      "900\n",
      "1000\n",
      "1100\n",
      "1200\n",
      "1300\n",
      "1400\n",
      "1500\n",
      "1600\n",
      "1700\n",
      "1800\n",
      "1900\n",
      "16.1984580994\n",
      "0\n",
      "100\n",
      "200\n",
      "300\n",
      "400\n",
      "500\n",
      "600\n",
      "700\n",
      "800\n",
      "900\n",
      "1000\n",
      "1100\n",
      "1200\n",
      "1300\n",
      "1400\n",
      "1500\n",
      "1600\n",
      "1700\n",
      "1800\n",
      "1900\n",
      "11.5005991499\n",
      "0\n",
      "100\n",
      "200\n",
      "300\n",
      "400\n",
      "500\n",
      "600\n",
      "700\n",
      "800\n",
      "900\n",
      "1000\n",
      "1100\n",
      "1200\n",
      "1300\n",
      "7.8527531147\n"
     ]
    }
   ],
   "source": [
    "start=time.time()\n",
    "r2_4000=siftprocessimage(r1[2000:4000])\n",
    "end=time.time()\n",
    "print (end-start)/60\n",
    "\n",
    "start=time.time()\n",
    "r2_6000=siftprocessimage(r1[4000:6000])\n",
    "end=time.time()\n",
    "print (end-start)/60\n",
    "\n",
    "start=time.time()\n",
    "r2_7377=siftprocessimage(r1[6000:])\n",
    "end=time.time()\n",
    "print (end-start)/60"
   ]
  },
  {
   "cell_type": "code",
   "execution_count": 11,
   "metadata": {
    "collapsed": false
   },
   "outputs": [
    {
     "name": "stdout",
     "output_type": "stream",
     "text": [
      "26.6282841523\n"
     ]
    }
   ],
   "source": [
    "start=time.time()\n",
    "voc,var=kmeans(r2_2000,500,1)\n",
    "voc\n",
    "end=time.time()\n",
    "print (end-start)/60\n",
    "\n"
   ]
  },
  {
   "cell_type": "code",
   "execution_count": 12,
   "metadata": {
    "collapsed": false
   },
   "outputs": [
    {
     "name": "stdout",
     "output_type": "stream",
     "text": [
      "97.2528758844\n"
     ]
    }
   ],
   "source": [
    "start=time.time()\n",
    "vocc,varr=kmeans(r2_2000,800,1)\n",
    "vocc\n",
    "end=time.time()\n",
    "print (end-start)/60"
   ]
  },
  {
   "cell_type": "code",
   "execution_count": 13,
   "metadata": {
    "collapsed": false
   },
   "outputs": [
    {
     "name": "stdout",
     "output_type": "stream",
     "text": [
      "0\n",
      "100\n",
      "200\n",
      "300\n",
      "400\n",
      "500\n",
      "600\n",
      "700\n",
      "800\n",
      "900\n",
      "1000\n",
      "1100\n",
      "1200\n",
      "1300\n",
      "1400\n",
      "1500\n",
      "1600\n",
      "1700\n",
      "1800\n",
      "1900\n",
      "0\n",
      "100\n",
      "200\n",
      "300\n",
      "400\n",
      "500\n",
      "600\n",
      "700\n",
      "800\n",
      "900\n",
      "1000\n",
      "1100\n",
      "1200\n",
      "1300\n",
      "1400\n",
      "1500\n",
      "1600\n",
      "1700\n",
      "1800\n",
      "1900\n",
      "0\n",
      "100\n",
      "200\n",
      "300\n",
      "400\n",
      "500\n",
      "600\n",
      "700\n",
      "800\n",
      "900\n",
      "1000\n",
      "1100\n",
      "1200\n",
      "1300\n",
      "1400\n",
      "1500\n",
      "1600\n",
      "1700\n",
      "1800\n",
      "1900\n",
      "0\n",
      "100\n",
      "200\n",
      "300\n",
      "400\n",
      "500\n",
      "600\n",
      "700\n",
      "800\n",
      "900\n",
      "1000\n",
      "1100\n",
      "1200\n",
      "1300\n",
      "1262.46730518\n"
     ]
    }
   ],
   "source": [
    "start=time.time()\n",
    "r3_2000_800=train(r2_2000,r1[:2000],vocc)\n",
    "r3_4000_800=train(r2_4000,r1[2000:4000],vocc)\n",
    "r3_6000_800=train(r2_6000,r1[4000:6000],vocc)\n",
    "r3_7377_800=train(r2_7377,r1[6000:],vocc)\n",
    "\n",
    "end=time.time()\n",
    "print ((end-start))\n",
    "\n"
   ]
  },
  {
   "cell_type": "code",
   "execution_count": 14,
   "metadata": {
    "collapsed": true
   },
   "outputs": [],
   "source": [
    "f=open('featuresift_2000_800.txt','w')\n",
    "for i in r3_2000_800:\n",
    "  a=str(i.tolist())\n",
    "  f.write(a+'\\n')\n",
    "    \n",
    "f.close()\n",
    "\n",
    "f=open('featuresift_4000_800.txt','w')\n",
    "for i in r3_4000_800:\n",
    "  a=str(i.tolist())\n",
    "  f.write(a+'\\n')\n",
    "    \n",
    "f.close()\n",
    "\n",
    "f=open('featuresift_6000_800.txt','w')\n",
    "for i in r3_6000_800:\n",
    "  a=str(i.tolist())\n",
    "  f.write(a+'\\n')\n",
    "    \n",
    "f.close()\n",
    "\n",
    "f=open('featuresift_7377_800.txt','w')\n",
    "for i in r3_7377_800:\n",
    "  a=str(i.tolist())\n",
    "  f.write(a+'\\n')\n",
    "    \n",
    "f.close()"
   ]
  },
  {
   "cell_type": "code",
   "execution_count": 18,
   "metadata": {
    "collapsed": false
   },
   "outputs": [
    {
     "data": {
      "text/plain": [
       "array([  34.80580139,   24.63134575,   17.2449646 ,   15.68493176,\n",
       "         12.71474648,    7.2191782 ,    6.42828369,   14.40854168,\n",
       "        110.61804962,   44.49597168,   10.11039448,    5.47461748,\n",
       "          4.18936348,    4.12087011,    7.74778414,   40.29854965,\n",
       "         59.19218445,   24.74859047,   21.38799286,   21.90854073,\n",
       "         14.82070923,   16.2365036 ,   19.03505325,   32.43150711,\n",
       "         10.08863831,   15.58299732,   33.96293259,   31.96776772,\n",
       "         22.93634224,   22.47622871,   17.64504433,   11.12812233,\n",
       "         49.69822693,   23.94923401,   16.96978188,   19.0008049 ,\n",
       "         17.50282097,    9.76672077,    6.79975843,   14.71232891,\n",
       "        133.87107849,   37.18090439,    7.24979877,    9.67647076,\n",
       "          8.31748581,    3.21514916,    4.18452883,   43.23932266,\n",
       "         53.3682518 ,   19.12409401,   47.61039352,   98.10193634,\n",
       "         56.92425537,    9.29532623,    6.12812233,   17.20306206,\n",
       "          7.42224026,   35.10757446,   92.67808533,   72.85294342,\n",
       "         19.03908157,    6.66357756,    3.64746165,    3.34407735,\n",
       "         56.77437592,   17.03988647,    9.59548759,   13.77437592,\n",
       "         17.68936348,   12.59307003,    9.67324734,   23.66156387,\n",
       "        133.40974426,   39.49798584,    7.80539894,   19.51732445,\n",
       "         19.12852478,    4.25060415,    3.86623693,   39.08058167,\n",
       "         28.80217552,   14.27155495,   24.29653549,  106.76229095,\n",
       "        111.4899292 ,   21.59548759,    4.17687368,    4.85817909,\n",
       "         15.58904076,   30.62771988,   52.58219147,   51.2550354 ,\n",
       "         32.12852478,   12.01490688,    8.56365871,   10.61321545,\n",
       "         50.0016098 ,   14.36381912,    5.59025002,    7.02578545,\n",
       "         12.32836437,   11.79975796,   11.65592289,   30.23328018,\n",
       "        107.8960495 ,   27.83400536,    6.33319902,   11.01531029,\n",
       "         21.53142548,    9.43513298,    8.15229607,   49.33964539,\n",
       "         16.60475349,    8.22522163,    7.4157939 ,   36.71595383,\n",
       "         97.54029083,   49.8605957 ,   13.21394062,    9.43674469,\n",
       "         14.40652657,   10.51087856,   10.5       ,   18.45044327,\n",
       "         36.43352127,   29.61684036,   20.21112061,   18.42667198], dtype=float32)"
      ]
     },
     "execution_count": 18,
     "metadata": {},
     "output_type": "execute_result"
    }
   ],
   "source": [
    "voc[0]"
   ]
  }
 ],
 "metadata": {
  "kernelspec": {
   "display_name": "Python 2",
   "language": "python",
   "name": "python2"
  },
  "language_info": {
   "codemirror_mode": {
    "name": "ipython",
    "version": 2
   },
   "file_extension": ".py",
   "mimetype": "text/x-python",
   "name": "python",
   "nbconvert_exporter": "python",
   "pygments_lexer": "ipython2",
   "version": "2.7.11"
  }
 },
 "nbformat": 4,
 "nbformat_minor": 0
}
