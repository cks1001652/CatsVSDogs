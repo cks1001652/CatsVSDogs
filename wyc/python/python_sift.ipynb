{
 "cells": [
  {
   "cell_type": "code",
   "execution_count": 29,
   "metadata": {
    "collapsed": false
   },
   "outputs": [],
   "source": [
    "import cv2\n",
    "import numpy as np\n",
    "import scipy\n",
    "import os\n",
    "import time\n",
    "from scipy.cluster.vq import *\n"
   ]
  },
  {
   "cell_type": "code",
   "execution_count": 6,
   "metadata": {
    "collapsed": false
   },
   "outputs": [],
   "source": [
    "detect = cv2.xfeatures2d.SIFT_create()\n",
    "\n",
    "extract = cv2.xfeatures2d.SIFT_create()\n",
    "def getimagedata(path):\n",
    "  train_names = os.listdir(path)\n",
    "  train_names = train_names[0:len(train_names)+1]\n",
    "  image_paths=[]\n",
    "  image_classes = []\n",
    "  class_id =0\n",
    "  for train_name in train_names:\n",
    "    dir = os.path.join(path,train_name)\n",
    "  #   class_path = [os.path.join(dir,f) for f in os.listdir(dir)]\n",
    "    image_paths.append(dir)\n",
    "  #   image_classes += [class_id]*len(class_path)\n",
    "  #   class_id +=1\n",
    "  return image_paths\n",
    "\n",
    "\n",
    "# sift extraction\n",
    "def siftprocessimage(image_paths):\n",
    "#     global descriptors\n",
    "    image_paths[0]\n",
    "    im = cv2.imread(image_paths[0])\n",
    "    gray= cv2.cvtColor(im,cv2.COLOR_BGR2GRAY)\n",
    "    kpts =detect.detect(gray)\n",
    "    kpts,des = extract.compute(im,kpts)\n",
    "    descriptors = np.array(des)\n",
    "    count=0\n",
    "    for image_path in image_paths[1:]:\n",
    "        if count % 100==0:\n",
    "            print count\n",
    "        im = cv2.imread(image_path)\n",
    "        gray= cv2.cvtColor(im,cv2.COLOR_BGR2GRAY)\n",
    "        kpts =detect.detect(gray)\n",
    "        kpts,des = extract.compute(im,kpts)\n",
    "        descriptors = np.vstack([descriptors, np.array(des)])\n",
    "        count+=1\n",
    "    return descriptors\n",
    "\n",
    "\n",
    "\n",
    "def getdata(feature_det,bow_extract,path):\n",
    "    im = cv2.imread(path)\n",
    "    featureset = bow_extract.compute(im, feature_det.detect(im))\n",
    "    return featureset   \n",
    "\n",
    "def train(descriptors,image_paths,voc):\n",
    "    flann_p=dict(algorithm = 1, tree = 5)\n",
    "    matcher = cv2.FlannBasedMatcher(flann_p,{})\n",
    "    bow_extract  =cv2.BOWImgDescriptorExtractor(extract,matcher)\n",
    "#   bow_train = cv2.BOWKMeansTrainer(5)\n",
    "    bow_extract.setVocabulary(voc)\n",
    "    traindata = []\n",
    "    count=0\n",
    "    for image_path in image_paths:\n",
    "    #     im = cv2.imread(image_path)\n",
    "        if count % 100==0:\n",
    "            print count\n",
    "        featureset = getdata(detect,bow_extract,image_path)\n",
    "        traindata.extend(featureset)\n",
    "        count+=1\n",
    "    return traindata\n",
    "\n"
   ]
  },
  {
   "cell_type": "code",
   "execution_count": 15,
   "metadata": {
    "collapsed": false
   },
   "outputs": [
    {
     "name": "stdout",
     "output_type": "stream",
     "text": [
      "0.0797197818756\n"
     ]
    }
   ],
   "source": [
    "path ='../data/'\n",
    "start=time.time()\n",
    "r1=getimagedata(path)\n",
    "end=time.time()\n",
    "print ((end-start))"
   ]
  },
  {
   "cell_type": "code",
   "execution_count": 18,
   "metadata": {
    "collapsed": false
   },
   "outputs": [
    {
     "name": "stdout",
     "output_type": "stream",
     "text": [
      "1225.96923804\n"
     ]
    }
   ],
   "source": [
    "start=time.time()\n",
    "r2=siftprocessimage(r1)\n",
    "end=time.time()\n",
    "print ((end-start))"
   ]
  },
  {
   "cell_type": "code",
   "execution_count": 207,
   "metadata": {
    "collapsed": false
   },
   "outputs": [
    {
     "name": "stdout",
     "output_type": "stream",
     "text": [
      "10.0711606344\n"
     ]
    }
   ],
   "source": [
    "start=time.time()\n",
    "test=siftprocessimage(r1)\n",
    "end=time.time()\n",
    "print (end-start)/60\n"
   ]
  },
  {
   "cell_type": "code",
   "execution_count": null,
   "metadata": {
    "collapsed": true
   },
   "outputs": [],
   "source": [
    "start=time.time()\n",
    "voc,var=kmeans(test,1000,1)\n",
    "voc\n",
    "end=time.time()\n",
    "print (end-start)/60\n"
   ]
  },
  {
   "cell_type": "code",
   "execution_count": 223,
   "metadata": {
    "collapsed": false
   },
   "outputs": [
    {
     "name": "stdout",
     "output_type": "stream",
     "text": [
      "0\n",
      "100\n",
      "200\n",
      "300\n",
      "400\n",
      "500\n",
      "600\n",
      "700\n",
      "800\n",
      "900\n",
      "179.451289892\n"
     ]
    }
   ],
   "source": [
    "\n",
    "start=time.time()\n",
    "test3=train(test,r1[0:1000],voc)\n",
    "end=time.time()\n",
    "print (end-start)/60\n",
    "\n"
   ]
  },
  {
   "cell_type": "code",
   "execution_count": 219,
   "metadata": {
    "collapsed": false
   },
   "outputs": [],
   "source": [
    "\n",
    "f=open('featuresift.txt','w')\n",
    "for i in test3:\n",
    "  a=str(i.tolist())\n",
    "  f.write(a+'\\n')\n",
    "    \n",
    "f.close()\n",
    "\n"
   ]
  },
  {
   "cell_type": "code",
   "execution_count": 224,
   "metadata": {
    "collapsed": false
   },
   "outputs": [
    {
     "name": "stdout",
     "output_type": "stream",
     "text": [
      "0.0768640041351\n",
      "178.351387767\n"
     ]
    }
   ],
   "source": [
    "path ='../data/'\n",
    "start=time.time()\n",
    "r1=getimagedata(path)\n",
    "end=time.time()\n",
    "print ((end-start))\n",
    "\n",
    "start=time.time()\n",
    "r2=siftprocessimage(r1)\n",
    "end=time.time()\n",
    "print (end-start)/60\n",
    "\n",
    "# start=time.time()\n",
    "# voc,var=kmeans(r2,1000,1)\n",
    "# voc\n",
    "# end=time.time()\n",
    "# print (end-start)/60\n",
    "\n",
    "# start=time.time()\n",
    "# test3=train(r2,r1,voc)\n",
    "# end=time.time()\n",
    "# print ((end-start))\n",
    "\n",
    "\n",
    "# f=open('featuresift.txt','w')\n",
    "# for i in test3:\n",
    "#   a=str(i.tolist())\n",
    "#   f.write(a+'\\n')\n",
    "    \n",
    "# f.close()"
   ]
  },
  {
   "cell_type": "code",
   "execution_count": 230,
   "metadata": {
    "collapsed": false
   },
   "outputs": [
    {
     "data": {
      "text/plain": [
       "array([   3.,   29.,   26.,   35.,   15.,   11.,    2.,    1.,   63.,\n",
       "        105.,    4.,    0.,    0.,    0.,    1.,   15.,   56.,   48.,\n",
       "         11.,   36.,   18.,    1.,    0.,   19.,    3.,   14.,  118.,\n",
       "         97.,   45.,   13.,    4.,    2.,    2.,    7.,    1.,    3.,\n",
       "         38.,   56.,    6.,    0.,   44.,  118.,    3.,    3.,   11.,\n",
       "          7.,    2.,    3.,  102.,  118.,    6.,   14.,   21.,   16.,\n",
       "         14.,   21.,    9.,    2.,   10.,   30.,   57.,  103.,  118.,\n",
       "         22.,    1.,    1.,    1.,   25.,   91.,   22.,    0.,    0.,\n",
       "         52.,   22.,    4.,   13.,   20.,    1.,    1.,   42.,  118.,\n",
       "         79.,   51.,    2.,    0.,    1.,    7.,   45.,   26.,   73.,\n",
       "        118.,    0.,    0.,    7.,   81.,   23.,    1.,    7.,    7.,\n",
       "         38.,  118.,    8.,    0.,    0.,   20.,   81.,   38.,   19.,\n",
       "         11.,    2.,    0.,    5.,   12.,   42.,  118.,   65.,    1.,\n",
       "          0.,    0.,    2.,    2.,   94.,  118.,    8.,    0.,    0.,\n",
       "          0.,    0.], dtype=float32)"
      ]
     },
     "execution_count": 230,
     "metadata": {},
     "output_type": "execute_result"
    }
   ],
   "source": [
    "r2[1]\n",
    "# import cPickle as pickle\n",
    "# pickle.dump(r2[:5000],open(\"r2_5000.p\",\"wb\"))\n",
    "# pickle.dump(r2[5000:],open(\"r2_2377.p\",\"wb\"))"
   ]
  },
  {
   "cell_type": "code",
   "execution_count": 231,
   "metadata": {
    "collapsed": false
   },
   "outputs": [
    {
     "name": "stdout",
     "output_type": "stream",
     "text": [
      "36.005601867\n"
     ]
    }
   ],
   "source": [
    "start=time.time()\n",
    "voc,var=kmeans(r2[:1619587],500,1)\n",
    "voc\n",
    "end=time.time()\n",
    "print (end-start)/60\n",
    "\n"
   ]
  },
  {
   "cell_type": "code",
   "execution_count": 232,
   "metadata": {
    "collapsed": false
   },
   "outputs": [
    {
     "name": "stdout",
     "output_type": "stream",
     "text": [
      "0\n",
      "100\n",
      "200\n",
      "300\n",
      "400\n",
      "500\n",
      "600\n",
      "700\n",
      "800\n",
      "900\n",
      "1000\n",
      "1100\n",
      "1200\n",
      "1300\n",
      "1400\n",
      "1500\n",
      "1600\n",
      "1700\n",
      "1800\n",
      "1900\n",
      "0\n",
      "100\n",
      "200\n",
      "300\n",
      "400\n",
      "500\n",
      "600\n",
      "700\n",
      "800\n",
      "900\n",
      "1000\n",
      "1100\n",
      "1200\n",
      "1300\n",
      "1400\n",
      "1500\n",
      "1600\n",
      "1700\n",
      "1800\n",
      "1900\n",
      "2000\n",
      "2100\n",
      "2200\n",
      "2300\n",
      "2400\n",
      "2500\n",
      "2600\n",
      "2700\n",
      "2800\n",
      "2900\n",
      "3000\n",
      "3100\n",
      "3200\n",
      "3300\n",
      "3400\n",
      "3500\n",
      "3600\n",
      "3700\n",
      "3800\n",
      "3900\n",
      "4000\n",
      "4100\n",
      "4200\n",
      "4300\n",
      "4400\n",
      "4500\n",
      "4600\n",
      "4700\n",
      "4800\n",
      "4900\n",
      "5000\n",
      "5100\n",
      "5200\n",
      "5300\n",
      "1275.13391304\n"
     ]
    }
   ],
   "source": [
    "start=time.time()\n",
    "r3_2000=train(r2[:1619587],r1[:2000],voc)\n",
    "r3_5377=train(r2[1619587:],r1[2000:],voc)\n",
    "end=time.time()\n",
    "print ((end-start))\n",
    "\n"
   ]
  },
  {
   "cell_type": "code",
   "execution_count": 236,
   "metadata": {
    "collapsed": false
   },
   "outputs": [],
   "source": [
    "\n",
    "\n",
    "\n",
    "f=open('featuresift_2000.txt','w')\n",
    "for i in r3_2000:\n",
    "  a=str(i.tolist())\n",
    "  f.write(a+'\\n')\n",
    "    \n",
    "f.close()\n",
    "\n",
    "f=open('featuresift_5377.txt','w')\n",
    "for i in r3_5377:\n",
    "  a=str(i.tolist())\n",
    "  f.write(a+'\\n')\n",
    "    \n",
    "f.close()"
   ]
  },
  {
   "cell_type": "code",
   "execution_count": 235,
   "metadata": {
    "collapsed": true
   },
   "outputs": [],
   "source": [
    "# r3_2000=r3_5000\n",
    "# r3_5377=r3_2377"
   ]
  },
  {
   "cell_type": "code",
   "execution_count": null,
   "metadata": {
    "collapsed": false
   },
   "outputs": [
    {
     "name": "stderr",
     "output_type": "stream",
     "text": [
      "/Users/cheeseloveicecream/.virtualenvs/cv/lib/python2.7/site-packages/scipy/cluster/vq.py:659: UserWarning: One of the clusters is empty. Re-run kmean with a different initialization.\n",
      "  warnings.warn(\"One of the clusters is empty. \"\n"
     ]
    },
    {
     "name": "stdout",
     "output_type": "stream",
     "text": [
      "194.600632215\n",
      "0\n",
      "100\n",
      "200\n",
      "300\n",
      "400\n",
      "500\n",
      "600\n",
      "700\n",
      "800\n",
      "900\n",
      "1000\n",
      "1100\n",
      "1200\n",
      "1300\n",
      "1400\n",
      "1500\n",
      "1600\n",
      "1700\n",
      "1800\n",
      "1900\n",
      "0\n",
      "100\n",
      "200\n",
      "300\n",
      "400\n",
      "500\n",
      "600\n",
      "700\n",
      "800\n",
      "900\n",
      "1000\n",
      "1100\n",
      "1200\n",
      "1300\n",
      "1400\n",
      "1500\n",
      "1600\n",
      "1700\n",
      "1800\n",
      "1900\n",
      "2000\n",
      "2100\n",
      "2200\n",
      "2300\n",
      "2400\n",
      "2500\n",
      "2600\n",
      "2700\n",
      "2800\n",
      "2900\n",
      "3000\n",
      "3100\n",
      "3200\n",
      "3300\n",
      "3400\n",
      "3500\n",
      "3600\n",
      "3700\n",
      "3800\n",
      "3900\n",
      "4000\n",
      "4100\n",
      "4200\n",
      "4300\n",
      "4400\n",
      "4500\n",
      "4600\n",
      "4700\n",
      "4800\n",
      "4900\n",
      "5000\n",
      "5100\n",
      "5200\n",
      "5300\n",
      "1262.69823289\n"
     ]
    }
   ],
   "source": [
    "start=time.time()\n",
    "voc,var=kmeans2(r2[:1619587],2000,1)\n",
    "voc\n",
    "end=time.time()\n",
    "print (end-start)/60\n",
    "\n",
    "\n",
    "start=time.time()\n",
    "r3_2000=train(r2[:1619587],r1[:2000],voc)\n",
    "r3_5377=train(r2[1619587:],r1[2000:],voc)\n",
    "end=time.time()\n",
    "print ((end-start))\n",
    "\n",
    "f=open('featuresift_2000_2000.txt','w')\n",
    "for i in r3_2000:\n",
    "  a=str(i.tolist())\n",
    "  f.write(a+'\\n')\n",
    "    \n",
    "f.close()\n",
    "\n",
    "f=open('featuresift_5377_2000.txt','w')\n",
    "for i in r3_5377:\n",
    "  a=str(i.tolist())\n",
    "  f.write(a+'\\n')\n",
    "    \n",
    "f.close()"
   ]
  },
  {
   "cell_type": "code",
   "execution_count": 4,
   "metadata": {
    "collapsed": false
   },
   "outputs": [
    {
     "ename": "NameError",
     "evalue": "name 'r2' is not defined",
     "output_type": "error",
     "traceback": [
      "\u001b[0;31m---------------------------------------------------------------------------\u001b[0m",
      "\u001b[0;31mNameError\u001b[0m                                 Traceback (most recent call last)",
      "\u001b[0;32m<ipython-input-4-913e5b82dfd4>\u001b[0m in \u001b[0;36m<module>\u001b[0;34m()\u001b[0m\n\u001b[1;32m      1\u001b[0m \u001b[0mstart\u001b[0m\u001b[0;34m=\u001b[0m\u001b[0mtime\u001b[0m\u001b[0;34m.\u001b[0m\u001b[0mtime\u001b[0m\u001b[0;34m(\u001b[0m\u001b[0;34m)\u001b[0m\u001b[0;34m\u001b[0m\u001b[0m\n\u001b[0;32m----> 2\u001b[0;31m \u001b[0mvocc\u001b[0m\u001b[0;34m,\u001b[0m\u001b[0mvar\u001b[0m\u001b[0;34m=\u001b[0m\u001b[0mkmeans2\u001b[0m\u001b[0;34m(\u001b[0m\u001b[0mr2\u001b[0m\u001b[0;34m[\u001b[0m\u001b[0;34m:\u001b[0m\u001b[0;36m1619587\u001b[0m\u001b[0;34m]\u001b[0m\u001b[0;34m,\u001b[0m\u001b[0;36m1000\u001b[0m\u001b[0;34m,\u001b[0m\u001b[0;36m1\u001b[0m\u001b[0;34m)\u001b[0m\u001b[0;34m\u001b[0m\u001b[0m\n\u001b[0m\u001b[1;32m      3\u001b[0m \u001b[0mvocc\u001b[0m\u001b[0;34m\u001b[0m\u001b[0m\n\u001b[1;32m      4\u001b[0m \u001b[0mend\u001b[0m\u001b[0;34m=\u001b[0m\u001b[0mtime\u001b[0m\u001b[0;34m.\u001b[0m\u001b[0mtime\u001b[0m\u001b[0;34m(\u001b[0m\u001b[0;34m)\u001b[0m\u001b[0;34m\u001b[0m\u001b[0m\n\u001b[1;32m      5\u001b[0m \u001b[0;32mprint\u001b[0m \u001b[0;34m(\u001b[0m\u001b[0mend\u001b[0m\u001b[0;34m-\u001b[0m\u001b[0mstart\u001b[0m\u001b[0;34m)\u001b[0m\u001b[0;34m/\u001b[0m\u001b[0;36m60\u001b[0m\u001b[0;34m\u001b[0m\u001b[0m\n",
      "\u001b[0;31mNameError\u001b[0m: name 'r2' is not defined"
     ]
    }
   ],
   "source": [
    "start=time.time()\n",
    "vocc,var=kmeans2(r2[:1619587],1000,1)\n",
    "vocc\n",
    "end=time.time()\n",
    "print (end-start)/60\n",
    "\n",
    "\n",
    "start=time.time()\n",
    "r3_2000=train(r2[:1619587],r1[:2000],vocc)\n",
    "r3_5377=train(r2[1619587:],r1[2000:],vocc)\n",
    "end=time.time()\n",
    "print ((end-start))\n",
    "\n",
    "f=open('featuresift_2000_1000.txt','w')\n",
    "for i in r3_2000:\n",
    "  a=str(i.tolist())\n",
    "  f.write(a+'\\n')\n",
    "    \n",
    "f.close()\n",
    "\n",
    "f=open('featuresift_5377_1000.txt','w')\n",
    "for i in r3_5377:\n",
    "  a=str(i.tolist())\n",
    "  f.write(a+'\\n')\n",
    "    \n",
    "f.close()"
   ]
  },
  {
   "cell_type": "code",
   "execution_count": 7,
   "metadata": {
    "collapsed": false
   },
   "outputs": [
    {
     "name": "stdout",
     "output_type": "stream",
     "text": [
      "0.1062541008\n"
     ]
    }
   ],
   "source": [
    "path ='../data/'\n",
    "start=time.time()\n",
    "r1=getimagedata(path)\n",
    "end=time.time()\n",
    "print ((end-start))"
   ]
  },
  {
   "cell_type": "code",
   "execution_count": 8,
   "metadata": {
    "collapsed": false
   },
   "outputs": [
    {
     "name": "stdout",
     "output_type": "stream",
     "text": [
      "0\n",
      "100\n",
      "200\n",
      "300\n",
      "400\n",
      "500\n",
      "600\n",
      "700\n",
      "800\n",
      "900\n",
      "1000\n",
      "1100\n",
      "1200\n",
      "1300\n",
      "1400\n",
      "1500\n",
      "1600\n",
      "1700\n",
      "1800\n",
      "1900\n",
      "13.2534792821\n",
      "0\n"
     ]
    },
    {
     "ename": "KeyboardInterrupt",
     "evalue": "",
     "output_type": "error",
     "traceback": [
      "\u001b[0;31m---------------------------------------------------------------------------\u001b[0m",
      "\u001b[0;31mKeyboardInterrupt\u001b[0m                         Traceback (most recent call last)",
      "\u001b[0;32m<ipython-input-8-3ae00a66d52f>\u001b[0m in \u001b[0;36m<module>\u001b[0;34m()\u001b[0m\n\u001b[1;32m      5\u001b[0m \u001b[0;34m\u001b[0m\u001b[0m\n\u001b[1;32m      6\u001b[0m \u001b[0mstart\u001b[0m\u001b[0;34m=\u001b[0m\u001b[0mtime\u001b[0m\u001b[0;34m.\u001b[0m\u001b[0mtime\u001b[0m\u001b[0;34m(\u001b[0m\u001b[0;34m)\u001b[0m\u001b[0;34m\u001b[0m\u001b[0m\n\u001b[0;32m----> 7\u001b[0;31m \u001b[0mr2_5377\u001b[0m\u001b[0;34m=\u001b[0m\u001b[0msiftprocessimage\u001b[0m\u001b[0;34m(\u001b[0m\u001b[0mr1\u001b[0m\u001b[0;34m[\u001b[0m\u001b[0;36m2000\u001b[0m\u001b[0;34m:\u001b[0m\u001b[0;34m]\u001b[0m\u001b[0;34m)\u001b[0m\u001b[0;34m\u001b[0m\u001b[0m\n\u001b[0m\u001b[1;32m      8\u001b[0m \u001b[0mend\u001b[0m\u001b[0;34m=\u001b[0m\u001b[0mtime\u001b[0m\u001b[0;34m.\u001b[0m\u001b[0mtime\u001b[0m\u001b[0;34m(\u001b[0m\u001b[0;34m)\u001b[0m\u001b[0;34m\u001b[0m\u001b[0m\n\u001b[1;32m      9\u001b[0m \u001b[0;32mprint\u001b[0m \u001b[0;34m(\u001b[0m\u001b[0mend\u001b[0m\u001b[0;34m-\u001b[0m\u001b[0mstart\u001b[0m\u001b[0;34m)\u001b[0m\u001b[0;34m/\u001b[0m\u001b[0;36m60\u001b[0m\u001b[0;34m\u001b[0m\u001b[0m\n",
      "\u001b[0;32m<ipython-input-6-18608a45c412>\u001b[0m in \u001b[0;36msiftprocessimage\u001b[0;34m(image_paths)\u001b[0m\n\u001b[1;32m     33\u001b[0m         \u001b[0mgray\u001b[0m\u001b[0;34m=\u001b[0m \u001b[0mcv2\u001b[0m\u001b[0;34m.\u001b[0m\u001b[0mcvtColor\u001b[0m\u001b[0;34m(\u001b[0m\u001b[0mim\u001b[0m\u001b[0;34m,\u001b[0m\u001b[0mcv2\u001b[0m\u001b[0;34m.\u001b[0m\u001b[0mCOLOR_BGR2GRAY\u001b[0m\u001b[0;34m)\u001b[0m\u001b[0;34m\u001b[0m\u001b[0m\n\u001b[1;32m     34\u001b[0m         \u001b[0mkpts\u001b[0m \u001b[0;34m=\u001b[0m\u001b[0mdetect\u001b[0m\u001b[0;34m.\u001b[0m\u001b[0mdetect\u001b[0m\u001b[0;34m(\u001b[0m\u001b[0mgray\u001b[0m\u001b[0;34m)\u001b[0m\u001b[0;34m\u001b[0m\u001b[0m\n\u001b[0;32m---> 35\u001b[0;31m         \u001b[0mkpts\u001b[0m\u001b[0;34m,\u001b[0m\u001b[0mdes\u001b[0m \u001b[0;34m=\u001b[0m \u001b[0mextract\u001b[0m\u001b[0;34m.\u001b[0m\u001b[0mcompute\u001b[0m\u001b[0;34m(\u001b[0m\u001b[0mim\u001b[0m\u001b[0;34m,\u001b[0m\u001b[0mkpts\u001b[0m\u001b[0;34m)\u001b[0m\u001b[0;34m\u001b[0m\u001b[0m\n\u001b[0m\u001b[1;32m     36\u001b[0m         \u001b[0mdescriptors\u001b[0m \u001b[0;34m=\u001b[0m \u001b[0mnp\u001b[0m\u001b[0;34m.\u001b[0m\u001b[0mvstack\u001b[0m\u001b[0;34m(\u001b[0m\u001b[0;34m[\u001b[0m\u001b[0mdescriptors\u001b[0m\u001b[0;34m,\u001b[0m \u001b[0mnp\u001b[0m\u001b[0;34m.\u001b[0m\u001b[0marray\u001b[0m\u001b[0;34m(\u001b[0m\u001b[0mdes\u001b[0m\u001b[0;34m)\u001b[0m\u001b[0;34m]\u001b[0m\u001b[0;34m)\u001b[0m\u001b[0;34m\u001b[0m\u001b[0m\n\u001b[1;32m     37\u001b[0m         \u001b[0mcount\u001b[0m\u001b[0;34m+=\u001b[0m\u001b[0;36m1\u001b[0m\u001b[0;34m\u001b[0m\u001b[0m\n",
      "\u001b[0;31mKeyboardInterrupt\u001b[0m: "
     ]
    }
   ],
   "source": [
    "start=time.time()\n",
    "r2_2000=siftprocessimage(r1[:2000])\n",
    "end=time.time()\n",
    "print (end-start)/60\n",
    "\n"
   ]
  },
  {
   "cell_type": "code",
   "execution_count": 10,
   "metadata": {
    "collapsed": false
   },
   "outputs": [
    {
     "name": "stdout",
     "output_type": "stream",
     "text": [
      "0\n",
      "100\n",
      "200\n",
      "300\n",
      "400\n",
      "500\n",
      "600\n",
      "700\n",
      "800\n",
      "900\n",
      "1000\n",
      "1100\n",
      "1200\n",
      "1300\n",
      "1400\n",
      "1500\n",
      "1600\n",
      "1700\n",
      "1800\n",
      "1900\n",
      "16.1984580994\n",
      "0\n",
      "100\n",
      "200\n",
      "300\n",
      "400\n",
      "500\n",
      "600\n",
      "700\n",
      "800\n",
      "900\n",
      "1000\n",
      "1100\n",
      "1200\n",
      "1300\n",
      "1400\n",
      "1500\n",
      "1600\n",
      "1700\n",
      "1800\n",
      "1900\n",
      "11.5005991499\n",
      "0\n",
      "100\n",
      "200\n",
      "300\n",
      "400\n",
      "500\n",
      "600\n",
      "700\n",
      "800\n",
      "900\n",
      "1000\n",
      "1100\n",
      "1200\n",
      "1300\n",
      "7.8527531147\n"
     ]
    }
   ],
   "source": [
    "start=time.time()\n",
    "r2_4000=siftprocessimage(r1[2000:4000])\n",
    "end=time.time()\n",
    "print (end-start)/60\n",
    "\n",
    "start=time.time()\n",
    "r2_6000=siftprocessimage(r1[4000:6000])\n",
    "end=time.time()\n",
    "print (end-start)/60\n",
    "\n",
    "start=time.time()\n",
    "r2_7377=siftprocessimage(r1[6000:])\n",
    "end=time.time()\n",
    "print (end-start)/60"
   ]
  },
  {
   "cell_type": "code",
   "execution_count": 11,
   "metadata": {
    "collapsed": false
   },
   "outputs": [
    {
     "name": "stdout",
     "output_type": "stream",
     "text": [
      "26.6282841523\n"
     ]
    }
   ],
   "source": [
    "start=time.time()\n",
    "voc,var=kmeans(r2_2000,500,1)\n",
    "voc\n",
    "end=time.time()\n",
    "print (end-start)/60\n",
    "\n"
   ]
  },
  {
   "cell_type": "code",
   "execution_count": 12,
   "metadata": {
    "collapsed": false
   },
   "outputs": [
    {
     "name": "stdout",
     "output_type": "stream",
     "text": [
      "97.2528758844\n"
     ]
    }
   ],
   "source": [
    "start=time.time()\n",
    "vocc,varr=kmeans(r2_2000,800,1)\n",
    "vocc\n",
    "end=time.time()\n",
    "print (end-start)/60"
   ]
  },
  {
   "cell_type": "code",
   "execution_count": 13,
   "metadata": {
    "collapsed": false
   },
   "outputs": [
    {
     "name": "stdout",
     "output_type": "stream",
     "text": [
      "0\n",
      "100\n",
      "200\n",
      "300\n",
      "400\n",
      "500\n",
      "600\n",
      "700\n",
      "800\n",
      "900\n",
      "1000\n",
      "1100\n",
      "1200\n",
      "1300\n",
      "1400\n",
      "1500\n",
      "1600\n",
      "1700\n",
      "1800\n",
      "1900\n",
      "0\n",
      "100\n",
      "200\n",
      "300\n",
      "400\n",
      "500\n",
      "600\n",
      "700\n",
      "800\n",
      "900\n",
      "1000\n",
      "1100\n",
      "1200\n",
      "1300\n",
      "1400\n",
      "1500\n",
      "1600\n",
      "1700\n",
      "1800\n",
      "1900\n",
      "0\n",
      "100\n",
      "200\n",
      "300\n",
      "400\n",
      "500\n",
      "600\n",
      "700\n",
      "800\n",
      "900\n",
      "1000\n",
      "1100\n",
      "1200\n",
      "1300\n",
      "1400\n",
      "1500\n",
      "1600\n",
      "1700\n",
      "1800\n",
      "1900\n",
      "0\n",
      "100\n",
      "200\n",
      "300\n",
      "400\n",
      "500\n",
      "600\n",
      "700\n",
      "800\n",
      "900\n",
      "1000\n",
      "1100\n",
      "1200\n",
      "1300\n",
      "1262.46730518\n"
     ]
    }
   ],
   "source": [
    "start=time.time()\n",
    "r3_2000_800=train(r2_2000,r1[:2000],vocc)\n",
    "r3_4000_800=train(r2_4000,r1[2000:4000],vocc)\n",
    "r3_6000_800=train(r2_6000,r1[4000:6000],vocc)\n",
    "r3_7377_800=train(r2_7377,r1[6000:],vocc)\n",
    "\n",
    "end=time.time()\n",
    "print ((end-start))\n",
    "\n"
   ]
  },
  {
   "cell_type": "code",
   "execution_count": 14,
   "metadata": {
    "collapsed": true
   },
   "outputs": [],
   "source": [
    "f=open('featuresift_2000_800.txt','w')\n",
    "for i in r3_2000_800:\n",
    "  a=str(i.tolist())\n",
    "  f.write(a+'\\n')\n",
    "    \n",
    "f.close()\n",
    "\n",
    "f=open('featuresift_4000_800.txt','w')\n",
    "for i in r3_4000_800:\n",
    "  a=str(i.tolist())\n",
    "  f.write(a+'\\n')\n",
    "    \n",
    "f.close()\n",
    "\n",
    "f=open('featuresift_6000_800.txt','w')\n",
    "for i in r3_6000_800:\n",
    "  a=str(i.tolist())\n",
    "  f.write(a+'\\n')\n",
    "    \n",
    "f.close()\n",
    "\n",
    "f=open('featuresift_7377_800.txt','w')\n",
    "for i in r3_7377_800:\n",
    "  a=str(i.tolist())\n",
    "  f.write(a+'\\n')\n",
    "    \n",
    "f.close()"
   ]
  },
  {
   "cell_type": "code",
   "execution_count": 18,
   "metadata": {
    "collapsed": false
   },
   "outputs": [
    {
     "data": {
      "text/plain": [
       "array([  34.80580139,   24.63134575,   17.2449646 ,   15.68493176,\n",
       "         12.71474648,    7.2191782 ,    6.42828369,   14.40854168,\n",
       "        110.61804962,   44.49597168,   10.11039448,    5.47461748,\n",
       "          4.18936348,    4.12087011,    7.74778414,   40.29854965,\n",
       "         59.19218445,   24.74859047,   21.38799286,   21.90854073,\n",
       "         14.82070923,   16.2365036 ,   19.03505325,   32.43150711,\n",
       "         10.08863831,   15.58299732,   33.96293259,   31.96776772,\n",
       "         22.93634224,   22.47622871,   17.64504433,   11.12812233,\n",
       "         49.69822693,   23.94923401,   16.96978188,   19.0008049 ,\n",
       "         17.50282097,    9.76672077,    6.79975843,   14.71232891,\n",
       "        133.87107849,   37.18090439,    7.24979877,    9.67647076,\n",
       "          8.31748581,    3.21514916,    4.18452883,   43.23932266,\n",
       "         53.3682518 ,   19.12409401,   47.61039352,   98.10193634,\n",
       "         56.92425537,    9.29532623,    6.12812233,   17.20306206,\n",
       "          7.42224026,   35.10757446,   92.67808533,   72.85294342,\n",
       "         19.03908157,    6.66357756,    3.64746165,    3.34407735,\n",
       "         56.77437592,   17.03988647,    9.59548759,   13.77437592,\n",
       "         17.68936348,   12.59307003,    9.67324734,   23.66156387,\n",
       "        133.40974426,   39.49798584,    7.80539894,   19.51732445,\n",
       "         19.12852478,    4.25060415,    3.86623693,   39.08058167,\n",
       "         28.80217552,   14.27155495,   24.29653549,  106.76229095,\n",
       "        111.4899292 ,   21.59548759,    4.17687368,    4.85817909,\n",
       "         15.58904076,   30.62771988,   52.58219147,   51.2550354 ,\n",
       "         32.12852478,   12.01490688,    8.56365871,   10.61321545,\n",
       "         50.0016098 ,   14.36381912,    5.59025002,    7.02578545,\n",
       "         12.32836437,   11.79975796,   11.65592289,   30.23328018,\n",
       "        107.8960495 ,   27.83400536,    6.33319902,   11.01531029,\n",
       "         21.53142548,    9.43513298,    8.15229607,   49.33964539,\n",
       "         16.60475349,    8.22522163,    7.4157939 ,   36.71595383,\n",
       "         97.54029083,   49.8605957 ,   13.21394062,    9.43674469,\n",
       "         14.40652657,   10.51087856,   10.5       ,   18.45044327,\n",
       "         36.43352127,   29.61684036,   20.21112061,   18.42667198], dtype=float32)"
      ]
     },
     "execution_count": 18,
     "metadata": {},
     "output_type": "execute_result"
    }
   ],
   "source": [
    "voc[0]"
   ]
  },
  {
   "cell_type": "code",
   "execution_count": 26,
   "metadata": {
    "collapsed": true
   },
   "outputs": [],
   "source": [
    "path='../validate'"
   ]
  },
  {
   "cell_type": "code",
   "execution_count": 31,
   "metadata": {
    "collapsed": false
   },
   "outputs": [
    {
     "name": "stdout",
     "output_type": "stream",
     "text": [
      "['../validate/.DS_Store', '../validate/img_valid_1.jpg', '../validate/img_valid_10.jpg', '../validate/img_valid_100.jpg', '../validate/img_valid_1000.jpg', '../validate/img_valid_1001.jpg', '../validate/img_valid_1002.jpg', '../validate/img_valid_1003.jpg', '../validate/img_valid_1004.jpg', '../validate/img_valid_1005.jpg', '../validate/img_valid_1006.jpg', '../validate/img_valid_1007.jpg', '../validate/img_valid_1008.jpg', '../validate/img_valid_1009.jpg', '../validate/img_valid_101.jpg', '../validate/img_valid_1010.jpg', '../validate/img_valid_1011.jpg', '../validate/img_valid_1012.jpg', '../validate/img_valid_1013.jpg', '../validate/img_valid_1014.jpg', '../validate/img_valid_1015.jpg', '../validate/img_valid_1016.jpg', '../validate/img_valid_1017.jpg', '../validate/img_valid_1018.jpg', '../validate/img_valid_1019.jpg', '../validate/img_valid_102.jpg', '../validate/img_valid_1020.jpg', '../validate/img_valid_1021.jpg', '../validate/img_valid_1022.jpg', '../validate/img_valid_1023.jpg', '../validate/img_valid_1024.jpg', '../validate/img_valid_1025.jpg', '../validate/img_valid_1026.jpg', '../validate/img_valid_1027.jpg', '../validate/img_valid_1028.jpg', '../validate/img_valid_1029.jpg', '../validate/img_valid_103.jpg', '../validate/img_valid_1030.jpg', '../validate/img_valid_1031.jpg', '../validate/img_valid_1032.jpg', '../validate/img_valid_1033.jpg', '../validate/img_valid_1034.jpg', '../validate/img_valid_1035.jpg', '../validate/img_valid_1036.jpg', '../validate/img_valid_1037.jpg', '../validate/img_valid_1038.jpg', '../validate/img_valid_1039.jpg', '../validate/img_valid_104.jpg', '../validate/img_valid_1040.jpg', '../validate/img_valid_1041.jpg', '../validate/img_valid_1042.jpg', '../validate/img_valid_1043.jpg', '../validate/img_valid_1044.jpg', '../validate/img_valid_1045.jpg', '../validate/img_valid_1046.jpg', '../validate/img_valid_1047.jpg', '../validate/img_valid_1048.jpg', '../validate/img_valid_1049.jpg', '../validate/img_valid_105.jpg', '../validate/img_valid_1050.jpg', '../validate/img_valid_1051.jpg', '../validate/img_valid_1052.jpg', '../validate/img_valid_1053.jpg', '../validate/img_valid_1054.jpg', '../validate/img_valid_1055.jpg', '../validate/img_valid_1056.jpg', '../validate/img_valid_1057.jpg', '../validate/img_valid_1058.jpg', '../validate/img_valid_1059.jpg', '../validate/img_valid_106.jpg', '../validate/img_valid_1060.jpg', '../validate/img_valid_1061.jpg', '../validate/img_valid_1062.jpg', '../validate/img_valid_1063.jpg', '../validate/img_valid_1064.jpg', '../validate/img_valid_1065.jpg', '../validate/img_valid_1066.jpg', '../validate/img_valid_1067.jpg', '../validate/img_valid_1068.jpg', '../validate/img_valid_1069.jpg', '../validate/img_valid_107.jpg', '../validate/img_valid_1070.jpg', '../validate/img_valid_1071.jpg', '../validate/img_valid_1072.jpg', '../validate/img_valid_1073.jpg', '../validate/img_valid_1074.jpg', '../validate/img_valid_1075.jpg', '../validate/img_valid_1076.jpg', '../validate/img_valid_1077.jpg', '../validate/img_valid_1078.jpg', '../validate/img_valid_1079.jpg', '../validate/img_valid_108.jpg', '../validate/img_valid_1080.jpg', '../validate/img_valid_1081.jpg', '../validate/img_valid_1082.jpg', '../validate/img_valid_1083.jpg', '../validate/img_valid_1084.jpg', '../validate/img_valid_1085.jpg', '../validate/img_valid_1086.jpg', '../validate/img_valid_1087.jpg', '../validate/img_valid_1088.jpg', '../validate/img_valid_1089.jpg', '../validate/img_valid_109.jpg', '../validate/img_valid_1090.jpg', '../validate/img_valid_1091.jpg', '../validate/img_valid_1092.jpg', '../validate/img_valid_1093.jpg', '../validate/img_valid_1094.jpg', '../validate/img_valid_1095.jpg', '../validate/img_valid_1096.jpg', '../validate/img_valid_1097.jpg', '../validate/img_valid_1098.jpg', '../validate/img_valid_1099.jpg', '../validate/img_valid_11.jpg', '../validate/img_valid_110.jpg', '../validate/img_valid_1100.jpg', '../validate/img_valid_1101.jpg', '../validate/img_valid_1102.jpg', '../validate/img_valid_1103.jpg', '../validate/img_valid_1104.jpg', '../validate/img_valid_1105.jpg', '../validate/img_valid_1106.jpg', '../validate/img_valid_1107.jpg', '../validate/img_valid_1108.jpg', '../validate/img_valid_1109.jpg', '../validate/img_valid_111.jpg', '../validate/img_valid_1110.jpg', '../validate/img_valid_1111.jpg', '../validate/img_valid_1112.jpg', '../validate/img_valid_1113.jpg', '../validate/img_valid_1114.jpg', '../validate/img_valid_1115.jpg', '../validate/img_valid_1116.jpg', '../validate/img_valid_1117.jpg', '../validate/img_valid_1118.jpg', '../validate/img_valid_1119.jpg', '../validate/img_valid_112.jpg', '../validate/img_valid_1120.jpg', '../validate/img_valid_1121.jpg', '../validate/img_valid_1122.jpg', '../validate/img_valid_1123.jpg', '../validate/img_valid_1124.jpg', '../validate/img_valid_1125.jpg', '../validate/img_valid_1126.jpg', '../validate/img_valid_1127.jpg', '../validate/img_valid_1128.jpg', '../validate/img_valid_1129.jpg', '../validate/img_valid_113.jpg', '../validate/img_valid_1130.jpg', '../validate/img_valid_1131.jpg', '../validate/img_valid_1132.jpg', '../validate/img_valid_1133.jpg', '../validate/img_valid_1134.jpg', '../validate/img_valid_1135.jpg', '../validate/img_valid_1136.jpg', '../validate/img_valid_1137.jpg', '../validate/img_valid_1138.jpg', '../validate/img_valid_1139.jpg', '../validate/img_valid_114.jpg', '../validate/img_valid_1140.jpg', '../validate/img_valid_1141.jpg', '../validate/img_valid_1142.jpg', '../validate/img_valid_1143.jpg', '../validate/img_valid_1144.jpg', '../validate/img_valid_1145.jpg', '../validate/img_valid_1146.jpg', '../validate/img_valid_1147.jpg', '../validate/img_valid_1148.jpg', '../validate/img_valid_1149.jpg', '../validate/img_valid_115.jpg', '../validate/img_valid_1150.jpg', '../validate/img_valid_1151.jpg', '../validate/img_valid_1152.jpg', '../validate/img_valid_1153.jpg', '../validate/img_valid_1154.jpg', '../validate/img_valid_1155.jpg', '../validate/img_valid_1156.jpg', '../validate/img_valid_1157.jpg', '../validate/img_valid_1158.jpg', '../validate/img_valid_1159.jpg', '../validate/img_valid_116.jpg', '../validate/img_valid_1160.jpg', '../validate/img_valid_1161.jpg', '../validate/img_valid_1162.jpg', '../validate/img_valid_1163.jpg', '../validate/img_valid_1164.jpg', '../validate/img_valid_1165.jpg', '../validate/img_valid_1166.jpg', '../validate/img_valid_1167.jpg', '../validate/img_valid_1168.jpg', '../validate/img_valid_1169.jpg', '../validate/img_valid_117.jpg', '../validate/img_valid_1170.jpg', '../validate/img_valid_1171.jpg', '../validate/img_valid_1172.jpg', '../validate/img_valid_1173.jpg', '../validate/img_valid_1174.jpg', '../validate/img_valid_1175.jpg', '../validate/img_valid_1176.jpg', '../validate/img_valid_1177.jpg', '../validate/img_valid_1178.jpg', '../validate/img_valid_1179.jpg', '../validate/img_valid_118.jpg', '../validate/img_valid_1180.jpg', '../validate/img_valid_1181.jpg', '../validate/img_valid_1182.jpg', '../validate/img_valid_1183.jpg', '../validate/img_valid_1184.jpg', '../validate/img_valid_1185.jpg', '../validate/img_valid_1186.jpg', '../validate/img_valid_1187.jpg', '../validate/img_valid_1188.jpg', '../validate/img_valid_1189.jpg', '../validate/img_valid_119.jpg', '../validate/img_valid_1190.jpg', '../validate/img_valid_1191.jpg', '../validate/img_valid_1192.jpg', '../validate/img_valid_1193.jpg', '../validate/img_valid_1194.jpg', '../validate/img_valid_1195.jpg', '../validate/img_valid_1196.jpg', '../validate/img_valid_1197.jpg', '../validate/img_valid_1198.jpg', '../validate/img_valid_1199.jpg', '../validate/img_valid_12.jpg', '../validate/img_valid_120.jpg', '../validate/img_valid_1200.jpg', '../validate/img_valid_1201.jpg', '../validate/img_valid_1202.jpg', '../validate/img_valid_1203.jpg', '../validate/img_valid_1204.jpg', '../validate/img_valid_1205.jpg', '../validate/img_valid_1206.jpg', '../validate/img_valid_1207.jpg', '../validate/img_valid_1208.jpg', '../validate/img_valid_1209.jpg', '../validate/img_valid_121.jpg', '../validate/img_valid_1210.jpg', '../validate/img_valid_1211.jpg', '../validate/img_valid_1212.jpg', '../validate/img_valid_1213.jpg', '../validate/img_valid_1214.jpg', '../validate/img_valid_1215.jpg', '../validate/img_valid_1216.jpg', '../validate/img_valid_1217.jpg', '../validate/img_valid_1218.jpg', '../validate/img_valid_1219.jpg', '../validate/img_valid_122.jpg', '../validate/img_valid_1220.jpg', '../validate/img_valid_1221.jpg', '../validate/img_valid_1222.jpg', '../validate/img_valid_1223.jpg', '../validate/img_valid_1224.jpg', '../validate/img_valid_1225.jpg', '../validate/img_valid_1226.jpg', '../validate/img_valid_1227.jpg', '../validate/img_valid_1228.jpg', '../validate/img_valid_1229.jpg', '../validate/img_valid_123.jpg', '../validate/img_valid_1230.jpg', '../validate/img_valid_1231.jpg', '../validate/img_valid_1232.jpg', '../validate/img_valid_1233.jpg', '../validate/img_valid_1234.jpg', '../validate/img_valid_1235.jpg', '../validate/img_valid_1236.jpg', '../validate/img_valid_1237.jpg', '../validate/img_valid_1238.jpg', '../validate/img_valid_1239.jpg', '../validate/img_valid_124.jpg', '../validate/img_valid_1240.jpg', '../validate/img_valid_1241.jpg', '../validate/img_valid_1242.jpg', '../validate/img_valid_1243.jpg', '../validate/img_valid_1244.jpg', '../validate/img_valid_1245.jpg', '../validate/img_valid_1246.jpg', '../validate/img_valid_1247.jpg', '../validate/img_valid_1248.jpg', '../validate/img_valid_1249.jpg', '../validate/img_valid_125.jpg', '../validate/img_valid_1250.jpg', '../validate/img_valid_1251.jpg', '../validate/img_valid_1252.jpg', '../validate/img_valid_1253.jpg', '../validate/img_valid_1254.jpg', '../validate/img_valid_1255.jpg', '../validate/img_valid_1256.jpg', '../validate/img_valid_1257.jpg', '../validate/img_valid_1258.jpg', '../validate/img_valid_1259.jpg', '../validate/img_valid_126.jpg', '../validate/img_valid_1260.jpg', '../validate/img_valid_1261.jpg', '../validate/img_valid_1262.jpg', '../validate/img_valid_1263.jpg', '../validate/img_valid_1264.jpg', '../validate/img_valid_1265.jpg', '../validate/img_valid_1266.jpg', '../validate/img_valid_1267.jpg', '../validate/img_valid_1268.jpg', '../validate/img_valid_1269.jpg', '../validate/img_valid_127.jpg', '../validate/img_valid_1270.jpg', '../validate/img_valid_1271.jpg', '../validate/img_valid_1272.jpg', '../validate/img_valid_1273.jpg', '../validate/img_valid_1274.jpg', '../validate/img_valid_1275.jpg', '../validate/img_valid_1276.jpg', '../validate/img_valid_1277.jpg', '../validate/img_valid_1278.jpg', '../validate/img_valid_1279.jpg', '../validate/img_valid_128.jpg', '../validate/img_valid_1280.jpg', '../validate/img_valid_1281.jpg', '../validate/img_valid_1282.jpg', '../validate/img_valid_1283.jpg', '../validate/img_valid_1284.jpg', '../validate/img_valid_1285.jpg', '../validate/img_valid_1286.jpg', '../validate/img_valid_1287.jpg', '../validate/img_valid_1288.jpg', '../validate/img_valid_1289.jpg', '../validate/img_valid_129.jpg', '../validate/img_valid_1290.jpg', '../validate/img_valid_1291.jpg', '../validate/img_valid_1292.jpg', '../validate/img_valid_1293.jpg', '../validate/img_valid_1294.jpg', '../validate/img_valid_1295.jpg', '../validate/img_valid_1296.jpg', '../validate/img_valid_1297.jpg', '../validate/img_valid_1298.jpg', '../validate/img_valid_1299.jpg', '../validate/img_valid_13.jpg', '../validate/img_valid_130.jpg', '../validate/img_valid_1300.jpg', '../validate/img_valid_1301.jpg', '../validate/img_valid_1302.jpg', '../validate/img_valid_1303.jpg', '../validate/img_valid_1304.jpg', '../validate/img_valid_1305.jpg', '../validate/img_valid_1306.jpg', '../validate/img_valid_1307.jpg', '../validate/img_valid_1308.jpg', '../validate/img_valid_1309.jpg', '../validate/img_valid_131.jpg', '../validate/img_valid_1310.jpg', '../validate/img_valid_1311.jpg', '../validate/img_valid_1312.jpg', '../validate/img_valid_1313.jpg', '../validate/img_valid_1314.jpg', '../validate/img_valid_1315.jpg', '../validate/img_valid_1316.jpg', '../validate/img_valid_1317.jpg', '../validate/img_valid_1318.jpg', '../validate/img_valid_1319.jpg', '../validate/img_valid_132.jpg', '../validate/img_valid_1320.jpg', '../validate/img_valid_1321.jpg', '../validate/img_valid_1322.jpg', '../validate/img_valid_1323.jpg', '../validate/img_valid_1324.jpg', '../validate/img_valid_1325.jpg', '../validate/img_valid_1326.jpg', '../validate/img_valid_1327.jpg', '../validate/img_valid_1328.jpg', '../validate/img_valid_1329.jpg', '../validate/img_valid_133.jpg', '../validate/img_valid_1330.jpg', '../validate/img_valid_1331.jpg', '../validate/img_valid_1332.jpg', '../validate/img_valid_1333.jpg', '../validate/img_valid_1334.jpg', '../validate/img_valid_1335.jpg', '../validate/img_valid_1336.jpg', '../validate/img_valid_1337.jpg', '../validate/img_valid_1338.jpg', '../validate/img_valid_1339.jpg', '../validate/img_valid_134.jpg', '../validate/img_valid_1340.jpg', '../validate/img_valid_1341.jpg', '../validate/img_valid_1342.jpg', '../validate/img_valid_1343.jpg', '../validate/img_valid_1344.jpg', '../validate/img_valid_1345.jpg', '../validate/img_valid_1346.jpg', '../validate/img_valid_1347.jpg', '../validate/img_valid_1348.jpg', '../validate/img_valid_1349.jpg', '../validate/img_valid_135.jpg', '../validate/img_valid_1350.jpg', '../validate/img_valid_1351.jpg', '../validate/img_valid_1352.jpg', '../validate/img_valid_1353.jpg', '../validate/img_valid_1354.jpg', '../validate/img_valid_1355.jpg', '../validate/img_valid_1356.jpg', '../validate/img_valid_1357.jpg', '../validate/img_valid_1358.jpg', '../validate/img_valid_1359.jpg', '../validate/img_valid_136.jpg', '../validate/img_valid_1360.jpg', '../validate/img_valid_1361.jpg', '../validate/img_valid_1362.jpg', '../validate/img_valid_1363.jpg', '../validate/img_valid_1364.jpg', '../validate/img_valid_1365.jpg', '../validate/img_valid_1366.jpg', '../validate/img_valid_1367.jpg', '../validate/img_valid_1368.jpg', '../validate/img_valid_1369.jpg', '../validate/img_valid_137.jpg', '../validate/img_valid_1370.jpg', '../validate/img_valid_1371.jpg', '../validate/img_valid_1372.jpg', '../validate/img_valid_1373.jpg', '../validate/img_valid_1374.jpg', '../validate/img_valid_1375.jpg', '../validate/img_valid_1376.jpg', '../validate/img_valid_1377.jpg', '../validate/img_valid_1378.jpg', '../validate/img_valid_1379.jpg', '../validate/img_valid_138.jpg', '../validate/img_valid_1380.jpg', '../validate/img_valid_1381.jpg', '../validate/img_valid_1382.jpg', '../validate/img_valid_1383.jpg', '../validate/img_valid_1384.jpg', '../validate/img_valid_1385.jpg', '../validate/img_valid_1386.jpg', '../validate/img_valid_1387.jpg', '../validate/img_valid_1388.jpg', '../validate/img_valid_1389.jpg', '../validate/img_valid_139.jpg', '../validate/img_valid_1390.jpg', '../validate/img_valid_1391.jpg', '../validate/img_valid_1392.jpg', '../validate/img_valid_1393.jpg', '../validate/img_valid_1394.jpg', '../validate/img_valid_1395.jpg', '../validate/img_valid_1396.jpg', '../validate/img_valid_1397.jpg', '../validate/img_valid_1398.jpg', '../validate/img_valid_1399.jpg', '../validate/img_valid_14.jpg', '../validate/img_valid_140.jpg', '../validate/img_valid_1400.jpg', '../validate/img_valid_1401.jpg', '../validate/img_valid_1402.jpg', '../validate/img_valid_1403.jpg', '../validate/img_valid_1404.jpg', '../validate/img_valid_1405.jpg', '../validate/img_valid_1406.jpg', '../validate/img_valid_1407.jpg', '../validate/img_valid_1408.jpg', '../validate/img_valid_1409.jpg', '../validate/img_valid_141.jpg', '../validate/img_valid_1410.jpg', '../validate/img_valid_1411.jpg', '../validate/img_valid_1412.jpg', '../validate/img_valid_1413.jpg', '../validate/img_valid_1414.jpg', '../validate/img_valid_1415.jpg', '../validate/img_valid_1416.jpg', '../validate/img_valid_1417.jpg', '../validate/img_valid_1418.jpg', '../validate/img_valid_1419.jpg', '../validate/img_valid_142.jpg', '../validate/img_valid_1420.jpg', '../validate/img_valid_1421.jpg', '../validate/img_valid_1422.jpg', '../validate/img_valid_1423.jpg', '../validate/img_valid_1424.jpg', '../validate/img_valid_1425.jpg', '../validate/img_valid_1426.jpg', '../validate/img_valid_1427.jpg', '../validate/img_valid_1428.jpg', '../validate/img_valid_1429.jpg', '../validate/img_valid_143.jpg', '../validate/img_valid_1430.jpg', '../validate/img_valid_1431.jpg', '../validate/img_valid_1432.jpg', '../validate/img_valid_1433.jpg', '../validate/img_valid_1434.jpg', '../validate/img_valid_1435.jpg', '../validate/img_valid_1436.jpg', '../validate/img_valid_1437.jpg', '../validate/img_valid_1438.jpg', '../validate/img_valid_1439.jpg', '../validate/img_valid_144.jpg', '../validate/img_valid_1440.jpg', '../validate/img_valid_1441.jpg', '../validate/img_valid_1442.jpg', '../validate/img_valid_1443.jpg', '../validate/img_valid_1444.jpg', '../validate/img_valid_1445.jpg', '../validate/img_valid_1446.jpg', '../validate/img_valid_1447.jpg', '../validate/img_valid_1448.jpg', '../validate/img_valid_1449.jpg', '../validate/img_valid_145.jpg', '../validate/img_valid_1450.jpg', '../validate/img_valid_1451.jpg', '../validate/img_valid_1452.jpg', '../validate/img_valid_1453.jpg', '../validate/img_valid_1454.jpg', '../validate/img_valid_1455.jpg', '../validate/img_valid_1456.jpg', '../validate/img_valid_1457.jpg', '../validate/img_valid_1458.jpg', '../validate/img_valid_1459.jpg', '../validate/img_valid_146.jpg', '../validate/img_valid_1460.jpg', '../validate/img_valid_1461.jpg', '../validate/img_valid_1462.jpg', '../validate/img_valid_1463.jpg', '../validate/img_valid_1464.jpg', '../validate/img_valid_1465.jpg', '../validate/img_valid_1466.jpg', '../validate/img_valid_1467.jpg', '../validate/img_valid_1468.jpg', '../validate/img_valid_1469.jpg', '../validate/img_valid_147.jpg', '../validate/img_valid_1470.jpg', '../validate/img_valid_1471.jpg', '../validate/img_valid_1472.jpg', '../validate/img_valid_1473.jpg', '../validate/img_valid_1474.jpg', '../validate/img_valid_1475.jpg', '../validate/img_valid_1476.jpg', '../validate/img_valid_1477.jpg', '../validate/img_valid_1478.jpg', '../validate/img_valid_1479.jpg', '../validate/img_valid_148.jpg', '../validate/img_valid_1480.jpg', '../validate/img_valid_1481.jpg', '../validate/img_valid_1482.jpg', '../validate/img_valid_1483.jpg', '../validate/img_valid_1484.jpg', '../validate/img_valid_1485.jpg', '../validate/img_valid_1486.jpg', '../validate/img_valid_1487.jpg', '../validate/img_valid_1488.jpg', '../validate/img_valid_1489.jpg', '../validate/img_valid_149.jpg', '../validate/img_valid_1490.jpg', '../validate/img_valid_1491.jpg', '../validate/img_valid_1492.jpg', '../validate/img_valid_1493.jpg', '../validate/img_valid_1494.jpg', '../validate/img_valid_1495.jpg', '../validate/img_valid_1496.jpg', '../validate/img_valid_1497.jpg', '../validate/img_valid_1498.jpg', '../validate/img_valid_1499.jpg', '../validate/img_valid_15.jpg', '../validate/img_valid_150.jpg', '../validate/img_valid_1500.jpg', '../validate/img_valid_1501.jpg', '../validate/img_valid_1502.jpg', '../validate/img_valid_1503.jpg', '../validate/img_valid_1504.jpg', '../validate/img_valid_1505.jpg', '../validate/img_valid_1506.jpg', '../validate/img_valid_1507.jpg', '../validate/img_valid_1508.jpg', '../validate/img_valid_1509.jpg', '../validate/img_valid_151.jpg', '../validate/img_valid_1510.jpg', '../validate/img_valid_1511.jpg', '../validate/img_valid_1512.jpg', '../validate/img_valid_1513.jpg', '../validate/img_valid_1514.jpg', '../validate/img_valid_1515.jpg', '../validate/img_valid_1516.jpg', '../validate/img_valid_1517.jpg', '../validate/img_valid_1518.jpg', '../validate/img_valid_1519.jpg', '../validate/img_valid_152.jpg', '../validate/img_valid_1520.jpg', '../validate/img_valid_1521.jpg', '../validate/img_valid_1522.jpg', '../validate/img_valid_1523.jpg', '../validate/img_valid_1524.jpg', '../validate/img_valid_1525.jpg', '../validate/img_valid_1526.jpg', '../validate/img_valid_1527.jpg', '../validate/img_valid_1528.jpg', '../validate/img_valid_1529.jpg', '../validate/img_valid_153.jpg', '../validate/img_valid_1530.jpg', '../validate/img_valid_1531.jpg', '../validate/img_valid_1532.jpg', '../validate/img_valid_1533.jpg', '../validate/img_valid_1534.jpg', '../validate/img_valid_1535.jpg', '../validate/img_valid_1536.jpg', '../validate/img_valid_1537.jpg', '../validate/img_valid_1538.jpg', '../validate/img_valid_1539.jpg', '../validate/img_valid_154.jpg', '../validate/img_valid_1540.jpg', '../validate/img_valid_1541.jpg', '../validate/img_valid_1542.jpg', '../validate/img_valid_1543.jpg', '../validate/img_valid_1544.jpg', '../validate/img_valid_1545.jpg', '../validate/img_valid_1546.jpg', '../validate/img_valid_1547.jpg', '../validate/img_valid_1548.jpg', '../validate/img_valid_1549.jpg', '../validate/img_valid_155.jpg', '../validate/img_valid_1550.jpg', '../validate/img_valid_1551.jpg', '../validate/img_valid_1552.jpg', '../validate/img_valid_1553.jpg', '../validate/img_valid_1554.jpg', '../validate/img_valid_1555.jpg', '../validate/img_valid_1556.jpg', '../validate/img_valid_1557.jpg', '../validate/img_valid_1558.jpg', '../validate/img_valid_1559.jpg', '../validate/img_valid_156.jpg', '../validate/img_valid_1560.jpg', '../validate/img_valid_1561.jpg', '../validate/img_valid_1562.jpg', '../validate/img_valid_1563.jpg', '../validate/img_valid_1564.jpg', '../validate/img_valid_1565.jpg', '../validate/img_valid_1566.jpg', '../validate/img_valid_1567.jpg', '../validate/img_valid_1568.jpg', '../validate/img_valid_1569.jpg', '../validate/img_valid_157.jpg', '../validate/img_valid_1570.jpg', '../validate/img_valid_1571.jpg', '../validate/img_valid_1572.jpg', '../validate/img_valid_1573.jpg', '../validate/img_valid_1574.jpg', '../validate/img_valid_1575.jpg', '../validate/img_valid_1576.jpg', '../validate/img_valid_1577.jpg', '../validate/img_valid_1578.jpg', '../validate/img_valid_1579.jpg', '../validate/img_valid_158.jpg', '../validate/img_valid_1580.jpg', '../validate/img_valid_1581.jpg', '../validate/img_valid_1582.jpg', '../validate/img_valid_1583.jpg', '../validate/img_valid_1584.jpg', '../validate/img_valid_1585.jpg', '../validate/img_valid_1586.jpg', '../validate/img_valid_1587.jpg', '../validate/img_valid_1588.jpg', '../validate/img_valid_1589.jpg', '../validate/img_valid_159.jpg', '../validate/img_valid_1590.jpg', '../validate/img_valid_1591.jpg', '../validate/img_valid_1592.jpg', '../validate/img_valid_1593.jpg', '../validate/img_valid_1594.jpg', '../validate/img_valid_1595.jpg', '../validate/img_valid_1596.jpg', '../validate/img_valid_1597.jpg', '../validate/img_valid_1598.jpg', '../validate/img_valid_1599.jpg', '../validate/img_valid_16.jpg', '../validate/img_valid_160.jpg', '../validate/img_valid_1600.jpg', '../validate/img_valid_1601.jpg', '../validate/img_valid_1602.jpg', '../validate/img_valid_1603.jpg', '../validate/img_valid_1604.jpg', '../validate/img_valid_1605.jpg', '../validate/img_valid_1606.jpg', '../validate/img_valid_1607.jpg', '../validate/img_valid_1608.jpg', '../validate/img_valid_1609.jpg', '../validate/img_valid_161.jpg', '../validate/img_valid_1610.jpg', '../validate/img_valid_1611.jpg', '../validate/img_valid_1612.jpg', '../validate/img_valid_1613.jpg', '../validate/img_valid_1614.jpg', '../validate/img_valid_1615.jpg', '../validate/img_valid_1616.jpg', '../validate/img_valid_1617.jpg', '../validate/img_valid_1618.jpg', '../validate/img_valid_1619.jpg', '../validate/img_valid_162.jpg', '../validate/img_valid_1620.jpg', '../validate/img_valid_1621.jpg', '../validate/img_valid_1622.jpg', '../validate/img_valid_1623.jpg', '../validate/img_valid_1624.jpg', '../validate/img_valid_1625.jpg', '../validate/img_valid_1626.jpg', '../validate/img_valid_1627.jpg', '../validate/img_valid_1628.jpg', '../validate/img_valid_1629.jpg', '../validate/img_valid_163.jpg', '../validate/img_valid_1630.jpg', '../validate/img_valid_1631.jpg', '../validate/img_valid_1632.jpg', '../validate/img_valid_1633.jpg', '../validate/img_valid_1634.jpg', '../validate/img_valid_1635.jpg', '../validate/img_valid_1636.jpg', '../validate/img_valid_1637.jpg', '../validate/img_valid_1638.jpg', '../validate/img_valid_1639.jpg', '../validate/img_valid_164.jpg', '../validate/img_valid_1640.jpg', '../validate/img_valid_1641.jpg', '../validate/img_valid_1642.jpg', '../validate/img_valid_1643.jpg', '../validate/img_valid_1644.jpg', '../validate/img_valid_1645.jpg', '../validate/img_valid_1646.jpg', '../validate/img_valid_1647.jpg', '../validate/img_valid_1648.jpg', '../validate/img_valid_1649.jpg', '../validate/img_valid_165.jpg', '../validate/img_valid_1650.jpg', '../validate/img_valid_1651.jpg', '../validate/img_valid_1652.jpg', '../validate/img_valid_1653.jpg', '../validate/img_valid_1654.jpg', '../validate/img_valid_1655.jpg', '../validate/img_valid_1656.jpg', '../validate/img_valid_1657.jpg', '../validate/img_valid_1658.jpg', '../validate/img_valid_1659.jpg', '../validate/img_valid_166.jpg', '../validate/img_valid_1660.jpg', '../validate/img_valid_1661.jpg', '../validate/img_valid_1662.jpg', '../validate/img_valid_1663.jpg', '../validate/img_valid_1664.jpg', '../validate/img_valid_1665.jpg', '../validate/img_valid_1666.jpg', '../validate/img_valid_1667.jpg', '../validate/img_valid_1668.jpg', '../validate/img_valid_1669.jpg', '../validate/img_valid_167.jpg', '../validate/img_valid_1670.jpg', '../validate/img_valid_1671.jpg', '../validate/img_valid_1672.jpg', '../validate/img_valid_1673.jpg', '../validate/img_valid_1674.jpg', '../validate/img_valid_1675.jpg', '../validate/img_valid_1676.jpg', '../validate/img_valid_1677.jpg', '../validate/img_valid_1678.jpg', '../validate/img_valid_1679.jpg', '../validate/img_valid_168.jpg', '../validate/img_valid_1680.jpg', '../validate/img_valid_1681.jpg', '../validate/img_valid_1682.jpg', '../validate/img_valid_1683.jpg', '../validate/img_valid_1684.jpg', '../validate/img_valid_1685.jpg', '../validate/img_valid_1686.jpg', '../validate/img_valid_1687.jpg', '../validate/img_valid_1688.jpg', '../validate/img_valid_1689.jpg', '../validate/img_valid_169.jpg', '../validate/img_valid_1690.jpg', '../validate/img_valid_1691.jpg', '../validate/img_valid_1692.jpg', '../validate/img_valid_1693.jpg', '../validate/img_valid_1694.jpg', '../validate/img_valid_1695.jpg', '../validate/img_valid_1696.jpg', '../validate/img_valid_1697.jpg', '../validate/img_valid_1698.jpg', '../validate/img_valid_1699.jpg', '../validate/img_valid_17.jpg', '../validate/img_valid_170.jpg', '../validate/img_valid_1700.jpg', '../validate/img_valid_1701.jpg', '../validate/img_valid_1702.jpg', '../validate/img_valid_1703.jpg', '../validate/img_valid_1704.jpg', '../validate/img_valid_1705.jpg', '../validate/img_valid_1706.jpg', '../validate/img_valid_1707.jpg', '../validate/img_valid_1708.jpg', '../validate/img_valid_1709.jpg', '../validate/img_valid_171.jpg', '../validate/img_valid_1710.jpg', '../validate/img_valid_1711.jpg', '../validate/img_valid_1712.jpg', '../validate/img_valid_1713.jpg', '../validate/img_valid_1714.jpg', '../validate/img_valid_1715.jpg', '../validate/img_valid_1716.jpg', '../validate/img_valid_1717.jpg', '../validate/img_valid_1718.jpg', '../validate/img_valid_1719.jpg', '../validate/img_valid_172.jpg', '../validate/img_valid_1720.jpg', '../validate/img_valid_1721.jpg', '../validate/img_valid_1722.jpg', '../validate/img_valid_1723.jpg', '../validate/img_valid_1724.jpg', '../validate/img_valid_1725.jpg', '../validate/img_valid_1726.jpg', '../validate/img_valid_1727.jpg', '../validate/img_valid_1728.jpg', '../validate/img_valid_1729.jpg', '../validate/img_valid_173.jpg', '../validate/img_valid_1730.jpg', '../validate/img_valid_1731.jpg', '../validate/img_valid_1732.jpg', '../validate/img_valid_1733.jpg', '../validate/img_valid_1734.jpg', '../validate/img_valid_1735.jpg', '../validate/img_valid_1736.jpg', '../validate/img_valid_1737.jpg', '../validate/img_valid_1738.jpg', '../validate/img_valid_1739.jpg', '../validate/img_valid_174.jpg', '../validate/img_valid_1740.jpg', '../validate/img_valid_1741.jpg', '../validate/img_valid_1742.jpg', '../validate/img_valid_1743.jpg', '../validate/img_valid_1744.jpg', '../validate/img_valid_1745.jpg', '../validate/img_valid_1746.jpg', '../validate/img_valid_1747.jpg', '../validate/img_valid_1748.jpg', '../validate/img_valid_1749.jpg', '../validate/img_valid_175.jpg', '../validate/img_valid_1750.jpg', '../validate/img_valid_1751.jpg', '../validate/img_valid_1752.jpg', '../validate/img_valid_1753.jpg', '../validate/img_valid_1754.jpg', '../validate/img_valid_1755.jpg', '../validate/img_valid_1756.jpg', '../validate/img_valid_1757.jpg', '../validate/img_valid_1758.jpg', '../validate/img_valid_1759.jpg', '../validate/img_valid_176.jpg', '../validate/img_valid_1760.jpg', '../validate/img_valid_1761.jpg', '../validate/img_valid_1762.jpg', '../validate/img_valid_1763.jpg', '../validate/img_valid_1764.jpg', '../validate/img_valid_1765.jpg', '../validate/img_valid_1766.jpg', '../validate/img_valid_1767.jpg', '../validate/img_valid_1768.jpg', '../validate/img_valid_1769.jpg', '../validate/img_valid_177.jpg', '../validate/img_valid_1770.jpg', '../validate/img_valid_1771.jpg', '../validate/img_valid_1772.jpg', '../validate/img_valid_1773.jpg', '../validate/img_valid_1774.jpg', '../validate/img_valid_1775.jpg', '../validate/img_valid_1776.jpg', '../validate/img_valid_1777.jpg', '../validate/img_valid_1778.jpg', '../validate/img_valid_1779.jpg', '../validate/img_valid_178.jpg', '../validate/img_valid_1780.jpg', '../validate/img_valid_1781.jpg', '../validate/img_valid_1782.jpg', '../validate/img_valid_1783.jpg', '../validate/img_valid_1784.jpg', '../validate/img_valid_1785.jpg', '../validate/img_valid_1786.jpg', '../validate/img_valid_1787.jpg', '../validate/img_valid_1788.jpg', '../validate/img_valid_1789.jpg', '../validate/img_valid_179.jpg', '../validate/img_valid_1790.jpg', '../validate/img_valid_1791.jpg', '../validate/img_valid_1792.jpg', '../validate/img_valid_1793.jpg', '../validate/img_valid_1794.jpg', '../validate/img_valid_1795.jpg', '../validate/img_valid_1796.jpg', '../validate/img_valid_1797.jpg', '../validate/img_valid_1798.jpg', '../validate/img_valid_1799.jpg', '../validate/img_valid_18.jpg', '../validate/img_valid_180.jpg', '../validate/img_valid_1800.jpg', '../validate/img_valid_1801.jpg', '../validate/img_valid_1802.jpg', '../validate/img_valid_1803.jpg', '../validate/img_valid_1804.jpg', '../validate/img_valid_1805.jpg', '../validate/img_valid_1806.jpg', '../validate/img_valid_1807.jpg', '../validate/img_valid_1808.jpg', '../validate/img_valid_1809.jpg', '../validate/img_valid_181.jpg', '../validate/img_valid_1810.jpg', '../validate/img_valid_1811.jpg', '../validate/img_valid_1812.jpg', '../validate/img_valid_1813.jpg', '../validate/img_valid_1814.jpg', '../validate/img_valid_1815.jpg', '../validate/img_valid_1816.jpg', '../validate/img_valid_1817.jpg', '../validate/img_valid_1818.jpg', '../validate/img_valid_1819.jpg', '../validate/img_valid_182.jpg', '../validate/img_valid_1820.jpg', '../validate/img_valid_1821.jpg', '../validate/img_valid_1822.jpg', '../validate/img_valid_1823.jpg', '../validate/img_valid_1824.jpg', '../validate/img_valid_1825.jpg', '../validate/img_valid_1826.jpg', '../validate/img_valid_1827.jpg', '../validate/img_valid_1828.jpg', '../validate/img_valid_1829.jpg', '../validate/img_valid_183.jpg', '../validate/img_valid_1830.jpg', '../validate/img_valid_1831.jpg', '../validate/img_valid_1832.jpg', '../validate/img_valid_1833.jpg', '../validate/img_valid_1834.jpg', '../validate/img_valid_1835.jpg', '../validate/img_valid_1836.jpg', '../validate/img_valid_1837.jpg', '../validate/img_valid_1838.jpg', '../validate/img_valid_1839.jpg', '../validate/img_valid_184.jpg', '../validate/img_valid_1840.jpg', '../validate/img_valid_1841.jpg', '../validate/img_valid_1842.jpg', '../validate/img_valid_1843.jpg', '../validate/img_valid_1844.jpg', '../validate/img_valid_1845.jpg', '../validate/img_valid_1846.jpg', '../validate/img_valid_1847.jpg', '../validate/img_valid_1848.jpg', '../validate/img_valid_1849.jpg', '../validate/img_valid_185.jpg', '../validate/img_valid_1850.jpg', '../validate/img_valid_1851.jpg', '../validate/img_valid_1852.jpg', '../validate/img_valid_1853.jpg', '../validate/img_valid_1854.jpg', '../validate/img_valid_1855.jpg', '../validate/img_valid_1856.jpg', '../validate/img_valid_1857.jpg', '../validate/img_valid_1858.jpg', '../validate/img_valid_1859.jpg', '../validate/img_valid_186.jpg', '../validate/img_valid_1860.jpg', '../validate/img_valid_1861.jpg', '../validate/img_valid_1862.jpg', '../validate/img_valid_1863.jpg', '../validate/img_valid_1864.jpg', '../validate/img_valid_1865.jpg', '../validate/img_valid_1866.jpg', '../validate/img_valid_1867.jpg', '../validate/img_valid_1868.jpg', '../validate/img_valid_1869.jpg', '../validate/img_valid_187.jpg', '../validate/img_valid_1870.jpg', '../validate/img_valid_1871.jpg', '../validate/img_valid_1872.jpg', '../validate/img_valid_1873.jpg', '../validate/img_valid_1874.jpg', '../validate/img_valid_1875.jpg', '../validate/img_valid_1876.jpg', '../validate/img_valid_1877.jpg', '../validate/img_valid_1878.jpg', '../validate/img_valid_1879.jpg', '../validate/img_valid_188.jpg', '../validate/img_valid_1880.jpg', '../validate/img_valid_1881.jpg', '../validate/img_valid_1882.jpg', '../validate/img_valid_1883.jpg', '../validate/img_valid_1884.jpg', '../validate/img_valid_1885.jpg', '../validate/img_valid_1886.jpg', '../validate/img_valid_1887.jpg', '../validate/img_valid_1888.jpg', '../validate/img_valid_1889.jpg', '../validate/img_valid_189.jpg', '../validate/img_valid_1890.jpg', '../validate/img_valid_1891.jpg', '../validate/img_valid_1892.jpg', '../validate/img_valid_1893.jpg', '../validate/img_valid_1894.jpg', '../validate/img_valid_1895.jpg', '../validate/img_valid_1896.jpg', '../validate/img_valid_1897.jpg', '../validate/img_valid_1898.jpg', '../validate/img_valid_1899.jpg', '../validate/img_valid_19.jpg', '../validate/img_valid_190.jpg', '../validate/img_valid_1900.jpg', '../validate/img_valid_1901.jpg', '../validate/img_valid_1902.jpg', '../validate/img_valid_1903.jpg', '../validate/img_valid_1904.jpg', '../validate/img_valid_1905.jpg', '../validate/img_valid_1906.jpg', '../validate/img_valid_1907.jpg', '../validate/img_valid_1908.jpg', '../validate/img_valid_1909.jpg', '../validate/img_valid_191.jpg', '../validate/img_valid_1910.jpg', '../validate/img_valid_1911.jpg', '../validate/img_valid_1912.jpg', '../validate/img_valid_1913.jpg', '../validate/img_valid_1914.jpg', '../validate/img_valid_1915.jpg', '../validate/img_valid_1916.jpg', '../validate/img_valid_1917.jpg', '../validate/img_valid_1918.jpg', '../validate/img_valid_1919.jpg', '../validate/img_valid_192.jpg', '../validate/img_valid_1920.jpg', '../validate/img_valid_1921.jpg', '../validate/img_valid_1922.jpg', '../validate/img_valid_1923.jpg', '../validate/img_valid_1924.jpg', '../validate/img_valid_1925.jpg', '../validate/img_valid_1926.jpg', '../validate/img_valid_1927.jpg', '../validate/img_valid_1928.jpg', '../validate/img_valid_1929.jpg', '../validate/img_valid_193.jpg', '../validate/img_valid_1930.jpg', '../validate/img_valid_1931.jpg', '../validate/img_valid_1932.jpg', '../validate/img_valid_1933.jpg', '../validate/img_valid_1934.jpg', '../validate/img_valid_1935.jpg', '../validate/img_valid_1936.jpg', '../validate/img_valid_1937.jpg', '../validate/img_valid_1938.jpg', '../validate/img_valid_1939.jpg', '../validate/img_valid_194.jpg', '../validate/img_valid_1940.jpg', '../validate/img_valid_1941.jpg', '../validate/img_valid_1942.jpg', '../validate/img_valid_1943.jpg', '../validate/img_valid_1944.jpg', '../validate/img_valid_1945.jpg', '../validate/img_valid_1946.jpg', '../validate/img_valid_1947.jpg', '../validate/img_valid_1948.jpg', '../validate/img_valid_1949.jpg', '../validate/img_valid_195.jpg', '../validate/img_valid_1950.jpg', '../validate/img_valid_1951.jpg', '../validate/img_valid_1952.jpg', '../validate/img_valid_1953.jpg', '../validate/img_valid_1954.jpg', '../validate/img_valid_1955.jpg', '../validate/img_valid_1956.jpg', '../validate/img_valid_1957.jpg', '../validate/img_valid_1958.jpg', '../validate/img_valid_1959.jpg', '../validate/img_valid_196.jpg', '../validate/img_valid_1960.jpg', '../validate/img_valid_1961.jpg', '../validate/img_valid_1962.jpg', '../validate/img_valid_1963.jpg', '../validate/img_valid_1964.jpg', '../validate/img_valid_1965.jpg', '../validate/img_valid_1966.jpg', '../validate/img_valid_1967.jpg', '../validate/img_valid_1968.jpg', '../validate/img_valid_1969.jpg', '../validate/img_valid_197.jpg', '../validate/img_valid_1970.jpg', '../validate/img_valid_1971.jpg', '../validate/img_valid_1972.jpg', '../validate/img_valid_1973.jpg', '../validate/img_valid_1974.jpg', '../validate/img_valid_1975.jpg', '../validate/img_valid_1976.jpg', '../validate/img_valid_1977.jpg', '../validate/img_valid_1978.jpg', '../validate/img_valid_1979.jpg', '../validate/img_valid_198.jpg', '../validate/img_valid_1980.jpg', '../validate/img_valid_1981.jpg', '../validate/img_valid_1982.jpg', '../validate/img_valid_1983.jpg', '../validate/img_valid_1984.jpg', '../validate/img_valid_1985.jpg', '../validate/img_valid_1986.jpg', '../validate/img_valid_1987.jpg', '../validate/img_valid_1988.jpg', '../validate/img_valid_1989.jpg', '../validate/img_valid_199.jpg', '../validate/img_valid_1990.jpg', '../validate/img_valid_1991.jpg', '../validate/img_valid_1992.jpg', '../validate/img_valid_1993.jpg', '../validate/img_valid_1994.jpg', '../validate/img_valid_1995.jpg', '../validate/img_valid_1996.jpg', '../validate/img_valid_1997.jpg', '../validate/img_valid_1998.jpg', '../validate/img_valid_1999.jpg', '../validate/img_valid_2.jpg', '../validate/img_valid_20.jpg', '../validate/img_valid_200.jpg', '../validate/img_valid_2000.jpg', '../validate/img_valid_201.jpg', '../validate/img_valid_202.jpg', '../validate/img_valid_203.jpg', '../validate/img_valid_204.jpg', '../validate/img_valid_205.jpg', '../validate/img_valid_206.jpg', '../validate/img_valid_207.jpg', '../validate/img_valid_208.jpg', '../validate/img_valid_209.jpg', '../validate/img_valid_21.jpg', '../validate/img_valid_210.jpg', '../validate/img_valid_211.jpg', '../validate/img_valid_212.jpg', '../validate/img_valid_213.jpg', '../validate/img_valid_214.jpg', '../validate/img_valid_215.jpg', '../validate/img_valid_216.jpg', '../validate/img_valid_217.jpg', '../validate/img_valid_218.jpg', '../validate/img_valid_219.jpg', '../validate/img_valid_22.jpg', '../validate/img_valid_220.jpg', '../validate/img_valid_221.jpg', '../validate/img_valid_222.jpg', '../validate/img_valid_223.jpg', '../validate/img_valid_224.jpg', '../validate/img_valid_225.jpg', '../validate/img_valid_226.jpg', '../validate/img_valid_227.jpg', '../validate/img_valid_228.jpg', '../validate/img_valid_229.jpg', '../validate/img_valid_23.jpg', '../validate/img_valid_230.jpg', '../validate/img_valid_231.jpg', '../validate/img_valid_232.jpg', '../validate/img_valid_233.jpg', '../validate/img_valid_234.jpg', '../validate/img_valid_235.jpg', '../validate/img_valid_236.jpg', '../validate/img_valid_237.jpg', '../validate/img_valid_238.jpg', '../validate/img_valid_239.jpg', '../validate/img_valid_24.jpg', '../validate/img_valid_240.jpg', '../validate/img_valid_241.jpg', '../validate/img_valid_242.jpg', '../validate/img_valid_243.jpg', '../validate/img_valid_244.jpg', '../validate/img_valid_245.jpg', '../validate/img_valid_246.jpg', '../validate/img_valid_247.jpg', '../validate/img_valid_248.jpg', '../validate/img_valid_249.jpg', '../validate/img_valid_25.jpg', '../validate/img_valid_250.jpg', '../validate/img_valid_251.jpg', '../validate/img_valid_252.jpg', '../validate/img_valid_253.jpg', '../validate/img_valid_254.jpg', '../validate/img_valid_255.jpg', '../validate/img_valid_256.jpg', '../validate/img_valid_257.jpg', '../validate/img_valid_258.jpg', '../validate/img_valid_259.jpg', '../validate/img_valid_26.jpg', '../validate/img_valid_260.jpg', '../validate/img_valid_261.jpg', '../validate/img_valid_262.jpg', '../validate/img_valid_263.jpg', '../validate/img_valid_264.jpg', '../validate/img_valid_265.jpg', '../validate/img_valid_266.jpg', '../validate/img_valid_267.jpg', '../validate/img_valid_268.jpg', '../validate/img_valid_269.jpg', '../validate/img_valid_27.jpg', '../validate/img_valid_270.jpg', '../validate/img_valid_271.jpg', '../validate/img_valid_272.jpg', '../validate/img_valid_273.jpg', '../validate/img_valid_274.jpg', '../validate/img_valid_275.jpg', '../validate/img_valid_276.jpg', '../validate/img_valid_277.jpg', '../validate/img_valid_278.jpg', '../validate/img_valid_279.jpg', '../validate/img_valid_28.jpg', '../validate/img_valid_280.jpg', '../validate/img_valid_281.jpg', '../validate/img_valid_282.jpg', '../validate/img_valid_283.jpg', '../validate/img_valid_284.jpg', '../validate/img_valid_285.jpg', '../validate/img_valid_286.jpg', '../validate/img_valid_287.jpg', '../validate/img_valid_288.jpg', '../validate/img_valid_289.jpg', '../validate/img_valid_29.jpg', '../validate/img_valid_290.jpg', '../validate/img_valid_291.jpg', '../validate/img_valid_292.jpg', '../validate/img_valid_293.jpg', '../validate/img_valid_294.jpg', '../validate/img_valid_295.jpg', '../validate/img_valid_296.jpg', '../validate/img_valid_297.jpg', '../validate/img_valid_298.jpg', '../validate/img_valid_299.jpg', '../validate/img_valid_3.jpg', '../validate/img_valid_30.jpg', '../validate/img_valid_300.jpg', '../validate/img_valid_301.jpg', '../validate/img_valid_302.jpg', '../validate/img_valid_303.jpg', '../validate/img_valid_304.jpg', '../validate/img_valid_305.jpg', '../validate/img_valid_306.jpg', '../validate/img_valid_307.jpg', '../validate/img_valid_308.jpg', '../validate/img_valid_309.jpg', '../validate/img_valid_31.jpg', '../validate/img_valid_310.jpg', '../validate/img_valid_311.jpg', '../validate/img_valid_312.jpg', '../validate/img_valid_313.jpg', '../validate/img_valid_314.jpg', '../validate/img_valid_315.jpg', '../validate/img_valid_316.jpg', '../validate/img_valid_317.jpg', '../validate/img_valid_318.jpg', '../validate/img_valid_319.jpg', '../validate/img_valid_32.jpg', '../validate/img_valid_320.jpg', '../validate/img_valid_321.jpg', '../validate/img_valid_322.jpg', '../validate/img_valid_323.jpg', '../validate/img_valid_324.jpg', '../validate/img_valid_325.jpg', '../validate/img_valid_326.jpg', '../validate/img_valid_327.jpg', '../validate/img_valid_328.jpg', '../validate/img_valid_329.jpg', '../validate/img_valid_33.jpg', '../validate/img_valid_330.jpg', '../validate/img_valid_331.jpg', '../validate/img_valid_332.jpg', '../validate/img_valid_333.jpg', '../validate/img_valid_334.jpg', '../validate/img_valid_335.jpg', '../validate/img_valid_336.jpg', '../validate/img_valid_337.jpg', '../validate/img_valid_338.jpg', '../validate/img_valid_339.jpg', '../validate/img_valid_34.jpg', '../validate/img_valid_340.jpg', '../validate/img_valid_341.jpg', '../validate/img_valid_342.jpg', '../validate/img_valid_343.jpg', '../validate/img_valid_344.jpg', '../validate/img_valid_345.jpg', '../validate/img_valid_346.jpg', '../validate/img_valid_347.jpg', '../validate/img_valid_348.jpg', '../validate/img_valid_349.jpg', '../validate/img_valid_35.jpg', '../validate/img_valid_350.jpg', '../validate/img_valid_351.jpg', '../validate/img_valid_352.jpg', '../validate/img_valid_353.jpg', '../validate/img_valid_354.jpg', '../validate/img_valid_355.jpg', '../validate/img_valid_356.jpg', '../validate/img_valid_357.jpg', '../validate/img_valid_358.jpg', '../validate/img_valid_359.jpg', '../validate/img_valid_36.jpg', '../validate/img_valid_360.jpg', '../validate/img_valid_361.jpg', '../validate/img_valid_362.jpg', '../validate/img_valid_363.jpg', '../validate/img_valid_364.jpg', '../validate/img_valid_365.jpg', '../validate/img_valid_366.jpg', '../validate/img_valid_367.jpg', '../validate/img_valid_368.jpg', '../validate/img_valid_369.jpg', '../validate/img_valid_37.jpg', '../validate/img_valid_370.jpg', '../validate/img_valid_371.jpg', '../validate/img_valid_372.jpg', '../validate/img_valid_373.jpg', '../validate/img_valid_374.jpg', '../validate/img_valid_375.jpg', '../validate/img_valid_376.jpg', '../validate/img_valid_377.jpg', '../validate/img_valid_378.jpg', '../validate/img_valid_379.jpg', '../validate/img_valid_38.jpg', '../validate/img_valid_380.jpg', '../validate/img_valid_381.jpg', '../validate/img_valid_382.jpg', '../validate/img_valid_383.jpg', '../validate/img_valid_384.jpg', '../validate/img_valid_385.jpg', '../validate/img_valid_386.jpg', '../validate/img_valid_387.jpg', '../validate/img_valid_388.jpg', '../validate/img_valid_389.jpg', '../validate/img_valid_39.jpg', '../validate/img_valid_390.jpg', '../validate/img_valid_391.jpg', '../validate/img_valid_392.jpg', '../validate/img_valid_393.jpg', '../validate/img_valid_394.jpg', '../validate/img_valid_395.jpg', '../validate/img_valid_396.jpg', '../validate/img_valid_397.jpg', '../validate/img_valid_398.jpg', '../validate/img_valid_399.jpg', '../validate/img_valid_4.jpg', '../validate/img_valid_40.jpg', '../validate/img_valid_400.jpg', '../validate/img_valid_401.jpg', '../validate/img_valid_402.jpg', '../validate/img_valid_403.jpg', '../validate/img_valid_404.jpg', '../validate/img_valid_405.jpg', '../validate/img_valid_406.jpg', '../validate/img_valid_407.jpg', '../validate/img_valid_408.jpg', '../validate/img_valid_409.jpg', '../validate/img_valid_41.jpg', '../validate/img_valid_410.jpg', '../validate/img_valid_411.jpg', '../validate/img_valid_412.jpg', '../validate/img_valid_413.jpg', '../validate/img_valid_414.jpg', '../validate/img_valid_415.jpg', '../validate/img_valid_416.jpg', '../validate/img_valid_417.jpg', '../validate/img_valid_418.jpg', '../validate/img_valid_419.jpg', '../validate/img_valid_42.jpg', '../validate/img_valid_420.jpg', '../validate/img_valid_421.jpg', '../validate/img_valid_422.jpg', '../validate/img_valid_423.jpg', '../validate/img_valid_424.jpg', '../validate/img_valid_425.jpg', '../validate/img_valid_426.jpg', '../validate/img_valid_427.jpg', '../validate/img_valid_428.jpg', '../validate/img_valid_429.jpg', '../validate/img_valid_43.jpg', '../validate/img_valid_430.jpg', '../validate/img_valid_431.jpg', '../validate/img_valid_432.jpg', '../validate/img_valid_433.jpg', '../validate/img_valid_434.jpg', '../validate/img_valid_435.jpg', '../validate/img_valid_436.jpg', '../validate/img_valid_437.jpg', '../validate/img_valid_438.jpg', '../validate/img_valid_439.jpg', '../validate/img_valid_44.jpg', '../validate/img_valid_440.jpg', '../validate/img_valid_441.jpg', '../validate/img_valid_442.jpg', '../validate/img_valid_443.jpg', '../validate/img_valid_444.jpg', '../validate/img_valid_445.jpg', '../validate/img_valid_446.jpg', '../validate/img_valid_447.jpg', '../validate/img_valid_448.jpg', '../validate/img_valid_449.jpg', '../validate/img_valid_45.jpg', '../validate/img_valid_450.jpg', '../validate/img_valid_451.jpg', '../validate/img_valid_452.jpg', '../validate/img_valid_453.jpg', '../validate/img_valid_454.jpg', '../validate/img_valid_455.jpg', '../validate/img_valid_456.jpg', '../validate/img_valid_457.jpg', '../validate/img_valid_458.jpg', '../validate/img_valid_459.jpg', '../validate/img_valid_46.jpg', '../validate/img_valid_460.jpg', '../validate/img_valid_461.jpg', '../validate/img_valid_462.jpg', '../validate/img_valid_463.jpg', '../validate/img_valid_464.jpg', '../validate/img_valid_465.jpg', '../validate/img_valid_466.jpg', '../validate/img_valid_467.jpg', '../validate/img_valid_468.jpg', '../validate/img_valid_469.jpg', '../validate/img_valid_47.jpg', '../validate/img_valid_470.jpg', '../validate/img_valid_471.jpg', '../validate/img_valid_472.jpg', '../validate/img_valid_473.jpg', '../validate/img_valid_474.jpg', '../validate/img_valid_475.jpg', '../validate/img_valid_476.jpg', '../validate/img_valid_477.jpg', '../validate/img_valid_478.jpg', '../validate/img_valid_479.jpg', '../validate/img_valid_48.jpg', '../validate/img_valid_480.jpg', '../validate/img_valid_481.jpg', '../validate/img_valid_482.jpg', '../validate/img_valid_483.jpg', '../validate/img_valid_484.jpg', '../validate/img_valid_485.jpg', '../validate/img_valid_486.jpg', '../validate/img_valid_487.jpg', '../validate/img_valid_488.jpg', '../validate/img_valid_489.jpg', '../validate/img_valid_49.jpg', '../validate/img_valid_490.jpg', '../validate/img_valid_491.jpg', '../validate/img_valid_492.jpg', '../validate/img_valid_493.jpg', '../validate/img_valid_494.jpg', '../validate/img_valid_495.jpg', '../validate/img_valid_496.jpg', '../validate/img_valid_497.jpg', '../validate/img_valid_498.jpg', '../validate/img_valid_499.jpg', '../validate/img_valid_5.jpg', '../validate/img_valid_50.jpg', '../validate/img_valid_500.jpg', '../validate/img_valid_501.jpg', '../validate/img_valid_502.jpg', '../validate/img_valid_503.jpg', '../validate/img_valid_504.jpg', '../validate/img_valid_505.jpg', '../validate/img_valid_506.jpg', '../validate/img_valid_507.jpg', '../validate/img_valid_508.jpg', '../validate/img_valid_509.jpg', '../validate/img_valid_51.jpg', '../validate/img_valid_510.jpg', '../validate/img_valid_511.jpg', '../validate/img_valid_512.jpg', '../validate/img_valid_513.jpg', '../validate/img_valid_514.jpg', '../validate/img_valid_515.jpg', '../validate/img_valid_516.jpg', '../validate/img_valid_517.jpg', '../validate/img_valid_518.jpg', '../validate/img_valid_519.jpg', '../validate/img_valid_52.jpg', '../validate/img_valid_520.jpg', '../validate/img_valid_521.jpg', '../validate/img_valid_522.jpg', '../validate/img_valid_523.jpg', '../validate/img_valid_524.jpg', '../validate/img_valid_525.jpg', '../validate/img_valid_526.jpg', '../validate/img_valid_527.jpg', '../validate/img_valid_528.jpg', '../validate/img_valid_529.jpg', '../validate/img_valid_53.jpg', '../validate/img_valid_530.jpg', '../validate/img_valid_531.jpg', '../validate/img_valid_532.jpg', '../validate/img_valid_533.jpg', '../validate/img_valid_534.jpg', '../validate/img_valid_535.jpg', '../validate/img_valid_536.jpg', '../validate/img_valid_537.jpg', '../validate/img_valid_538.jpg', '../validate/img_valid_539.jpg', '../validate/img_valid_54.jpg', '../validate/img_valid_540.jpg', '../validate/img_valid_541.jpg', '../validate/img_valid_542.jpg', '../validate/img_valid_543.jpg', '../validate/img_valid_544.jpg', '../validate/img_valid_545.jpg', '../validate/img_valid_546.jpg', '../validate/img_valid_547.jpg', '../validate/img_valid_548.jpg', '../validate/img_valid_549.jpg', '../validate/img_valid_55.jpg', '../validate/img_valid_550.jpg', '../validate/img_valid_551.jpg', '../validate/img_valid_552.jpg', '../validate/img_valid_553.jpg', '../validate/img_valid_554.jpg', '../validate/img_valid_555.jpg', '../validate/img_valid_556.jpg', '../validate/img_valid_557.jpg', '../validate/img_valid_558.jpg', '../validate/img_valid_559.jpg', '../validate/img_valid_56.jpg', '../validate/img_valid_560.jpg', '../validate/img_valid_561.jpg', '../validate/img_valid_562.jpg', '../validate/img_valid_563.jpg', '../validate/img_valid_564.jpg', '../validate/img_valid_565.jpg', '../validate/img_valid_566.jpg', '../validate/img_valid_567.jpg', '../validate/img_valid_568.jpg', '../validate/img_valid_569.jpg', '../validate/img_valid_57.jpg', '../validate/img_valid_570.jpg', '../validate/img_valid_571.jpg', '../validate/img_valid_572.jpg', '../validate/img_valid_573.jpg', '../validate/img_valid_574.jpg', '../validate/img_valid_575.jpg', '../validate/img_valid_576.jpg', '../validate/img_valid_577.jpg', '../validate/img_valid_578.jpg', '../validate/img_valid_579.jpg', '../validate/img_valid_58.jpg', '../validate/img_valid_580.jpg', '../validate/img_valid_581.jpg', '../validate/img_valid_582.jpg', '../validate/img_valid_583.jpg', '../validate/img_valid_584.jpg', '../validate/img_valid_585.jpg', '../validate/img_valid_586.jpg', '../validate/img_valid_587.jpg', '../validate/img_valid_588.jpg', '../validate/img_valid_589.jpg', '../validate/img_valid_59.jpg', '../validate/img_valid_590.jpg', '../validate/img_valid_591.jpg', '../validate/img_valid_592.jpg', '../validate/img_valid_593.jpg', '../validate/img_valid_594.jpg', '../validate/img_valid_595.jpg', '../validate/img_valid_596.jpg', '../validate/img_valid_597.jpg', '../validate/img_valid_598.jpg', '../validate/img_valid_599.jpg', '../validate/img_valid_6.jpg', '../validate/img_valid_60.jpg', '../validate/img_valid_600.jpg', '../validate/img_valid_601.jpg', '../validate/img_valid_602.jpg', '../validate/img_valid_603.jpg', '../validate/img_valid_604.jpg', '../validate/img_valid_605.jpg', '../validate/img_valid_606.jpg', '../validate/img_valid_607.jpg', '../validate/img_valid_608.jpg', '../validate/img_valid_609.jpg', '../validate/img_valid_61.jpg', '../validate/img_valid_610.jpg', '../validate/img_valid_611.jpg', '../validate/img_valid_612.jpg', '../validate/img_valid_613.jpg', '../validate/img_valid_614.jpg', '../validate/img_valid_615.jpg', '../validate/img_valid_616.jpg', '../validate/img_valid_617.jpg', '../validate/img_valid_618.jpg', '../validate/img_valid_619.jpg', '../validate/img_valid_62.jpg', '../validate/img_valid_620.jpg', '../validate/img_valid_621.jpg', '../validate/img_valid_622.jpg', '../validate/img_valid_623.jpg', '../validate/img_valid_624.jpg', '../validate/img_valid_625.jpg', '../validate/img_valid_626.jpg', '../validate/img_valid_627.jpg', '../validate/img_valid_628.jpg', '../validate/img_valid_629.jpg', '../validate/img_valid_63.jpg', '../validate/img_valid_630.jpg', '../validate/img_valid_631.jpg', '../validate/img_valid_632.jpg', '../validate/img_valid_633.jpg', '../validate/img_valid_634.jpg', '../validate/img_valid_635.jpg', '../validate/img_valid_636.jpg', '../validate/img_valid_637.jpg', '../validate/img_valid_638.jpg', '../validate/img_valid_639.jpg', '../validate/img_valid_64.jpg', '../validate/img_valid_640.jpg', '../validate/img_valid_641.jpg', '../validate/img_valid_642.jpg', '../validate/img_valid_643.jpg', '../validate/img_valid_644.jpg', '../validate/img_valid_645.jpg', '../validate/img_valid_646.jpg', '../validate/img_valid_647.jpg', '../validate/img_valid_648.jpg', '../validate/img_valid_649.jpg', '../validate/img_valid_65.jpg', '../validate/img_valid_650.jpg', '../validate/img_valid_651.jpg', '../validate/img_valid_652.jpg', '../validate/img_valid_653.jpg', '../validate/img_valid_654.jpg', '../validate/img_valid_655.jpg', '../validate/img_valid_656.jpg', '../validate/img_valid_657.jpg', '../validate/img_valid_658.jpg', '../validate/img_valid_659.jpg', '../validate/img_valid_66.jpg', '../validate/img_valid_660.jpg', '../validate/img_valid_661.jpg', '../validate/img_valid_662.jpg', '../validate/img_valid_663.jpg', '../validate/img_valid_664.jpg', '../validate/img_valid_665.jpg', '../validate/img_valid_666.jpg', '../validate/img_valid_667.jpg', '../validate/img_valid_668.jpg', '../validate/img_valid_669.jpg', '../validate/img_valid_67.jpg', '../validate/img_valid_670.jpg', '../validate/img_valid_671.jpg', '../validate/img_valid_672.jpg', '../validate/img_valid_673.jpg', '../validate/img_valid_674.jpg', '../validate/img_valid_675.jpg', '../validate/img_valid_676.jpg', '../validate/img_valid_677.jpg', '../validate/img_valid_678.jpg', '../validate/img_valid_679.jpg', '../validate/img_valid_68.jpg', '../validate/img_valid_680.jpg', '../validate/img_valid_681.jpg', '../validate/img_valid_682.jpg', '../validate/img_valid_683.jpg', '../validate/img_valid_684.jpg', '../validate/img_valid_685.jpg', '../validate/img_valid_686.jpg', '../validate/img_valid_687.jpg', '../validate/img_valid_688.jpg', '../validate/img_valid_689.jpg', '../validate/img_valid_69.jpg', '../validate/img_valid_690.jpg', '../validate/img_valid_691.jpg', '../validate/img_valid_692.jpg', '../validate/img_valid_693.jpg', '../validate/img_valid_694.jpg', '../validate/img_valid_695.jpg', '../validate/img_valid_696.jpg', '../validate/img_valid_697.jpg', '../validate/img_valid_698.jpg', '../validate/img_valid_699.jpg', '../validate/img_valid_7.jpg', '../validate/img_valid_70.jpg', '../validate/img_valid_700.jpg', '../validate/img_valid_701.jpg', '../validate/img_valid_702.jpg', '../validate/img_valid_703.jpg', '../validate/img_valid_704.jpg', '../validate/img_valid_705.jpg', '../validate/img_valid_706.jpg', '../validate/img_valid_707.jpg', '../validate/img_valid_708.jpg', '../validate/img_valid_709.jpg', '../validate/img_valid_71.jpg', '../validate/img_valid_710.jpg', '../validate/img_valid_711.jpg', '../validate/img_valid_712.jpg', '../validate/img_valid_713.jpg', '../validate/img_valid_714.jpg', '../validate/img_valid_715.jpg', '../validate/img_valid_716.jpg', '../validate/img_valid_717.jpg', '../validate/img_valid_718.jpg', '../validate/img_valid_719.jpg', '../validate/img_valid_72.jpg', '../validate/img_valid_720.jpg', '../validate/img_valid_721.jpg', '../validate/img_valid_722.jpg', '../validate/img_valid_723.jpg', '../validate/img_valid_724.jpg', '../validate/img_valid_725.jpg', '../validate/img_valid_726.jpg', '../validate/img_valid_727.jpg', '../validate/img_valid_728.jpg', '../validate/img_valid_729.jpg', '../validate/img_valid_73.jpg', '../validate/img_valid_730.jpg', '../validate/img_valid_731.jpg', '../validate/img_valid_732.jpg', '../validate/img_valid_733.jpg', '../validate/img_valid_734.jpg', '../validate/img_valid_735.jpg', '../validate/img_valid_736.jpg', '../validate/img_valid_737.jpg', '../validate/img_valid_738.jpg', '../validate/img_valid_739.jpg', '../validate/img_valid_74.jpg', '../validate/img_valid_740.jpg', '../validate/img_valid_741.jpg', '../validate/img_valid_742.jpg', '../validate/img_valid_743.jpg', '../validate/img_valid_744.jpg', '../validate/img_valid_745.jpg', '../validate/img_valid_746.jpg', '../validate/img_valid_747.jpg', '../validate/img_valid_748.jpg', '../validate/img_valid_749.jpg', '../validate/img_valid_75.jpg', '../validate/img_valid_750.jpg', '../validate/img_valid_751.jpg', '../validate/img_valid_752.jpg', '../validate/img_valid_753.jpg', '../validate/img_valid_754.jpg', '../validate/img_valid_755.jpg', '../validate/img_valid_756.jpg', '../validate/img_valid_757.jpg', '../validate/img_valid_758.jpg', '../validate/img_valid_759.jpg', '../validate/img_valid_76.jpg', '../validate/img_valid_760.jpg', '../validate/img_valid_761.jpg', '../validate/img_valid_762.jpg', '../validate/img_valid_763.jpg', '../validate/img_valid_764.jpg', '../validate/img_valid_765.jpg', '../validate/img_valid_766.jpg', '../validate/img_valid_767.jpg', '../validate/img_valid_768.jpg', '../validate/img_valid_769.jpg', '../validate/img_valid_77.jpg', '../validate/img_valid_770.jpg', '../validate/img_valid_771.jpg', '../validate/img_valid_772.jpg', '../validate/img_valid_773.jpg', '../validate/img_valid_774.jpg', '../validate/img_valid_775.jpg', '../validate/img_valid_776.jpg', '../validate/img_valid_777.jpg', '../validate/img_valid_778.jpg', '../validate/img_valid_779.jpg', '../validate/img_valid_78.jpg', '../validate/img_valid_780.jpg', '../validate/img_valid_781.jpg', '../validate/img_valid_782.jpg', '../validate/img_valid_783.jpg', '../validate/img_valid_784.jpg', '../validate/img_valid_785.jpg', '../validate/img_valid_786.jpg', '../validate/img_valid_787.jpg', '../validate/img_valid_788.jpg', '../validate/img_valid_789.jpg', '../validate/img_valid_79.jpg', '../validate/img_valid_790.jpg', '../validate/img_valid_791.jpg', '../validate/img_valid_792.jpg', '../validate/img_valid_793.jpg', '../validate/img_valid_794.jpg', '../validate/img_valid_795.jpg', '../validate/img_valid_796.jpg', '../validate/img_valid_797.jpg', '../validate/img_valid_798.jpg', '../validate/img_valid_799.jpg', '../validate/img_valid_8.jpg', '../validate/img_valid_80.jpg', '../validate/img_valid_800.jpg', '../validate/img_valid_801.jpg', '../validate/img_valid_802.jpg', '../validate/img_valid_803.jpg', '../validate/img_valid_804.jpg', '../validate/img_valid_805.jpg', '../validate/img_valid_806.jpg', '../validate/img_valid_807.jpg', '../validate/img_valid_808.jpg', '../validate/img_valid_809.jpg', '../validate/img_valid_81.jpg', '../validate/img_valid_810.jpg', '../validate/img_valid_811.jpg', '../validate/img_valid_812.jpg', '../validate/img_valid_813.jpg', '../validate/img_valid_814.jpg', '../validate/img_valid_815.jpg', '../validate/img_valid_816.jpg', '../validate/img_valid_817.jpg', '../validate/img_valid_818.jpg', '../validate/img_valid_819.jpg', '../validate/img_valid_82.jpg', '../validate/img_valid_820.jpg', '../validate/img_valid_821.jpg', '../validate/img_valid_822.jpg', '../validate/img_valid_823.jpg', '../validate/img_valid_824.jpg', '../validate/img_valid_825.jpg', '../validate/img_valid_826.jpg', '../validate/img_valid_827.jpg', '../validate/img_valid_828.jpg', '../validate/img_valid_829.jpg', '../validate/img_valid_83.jpg', '../validate/img_valid_830.jpg', '../validate/img_valid_831.jpg', '../validate/img_valid_832.jpg', '../validate/img_valid_833.jpg', '../validate/img_valid_834.jpg', '../validate/img_valid_835.jpg', '../validate/img_valid_836.jpg', '../validate/img_valid_837.jpg', '../validate/img_valid_838.jpg', '../validate/img_valid_839.jpg', '../validate/img_valid_84.jpg', '../validate/img_valid_840.jpg', '../validate/img_valid_841.jpg', '../validate/img_valid_842.jpg', '../validate/img_valid_843.jpg', '../validate/img_valid_844.jpg', '../validate/img_valid_845.jpg', '../validate/img_valid_846.jpg', '../validate/img_valid_847.jpg', '../validate/img_valid_848.jpg', '../validate/img_valid_849.jpg', '../validate/img_valid_85.jpg', '../validate/img_valid_850.jpg', '../validate/img_valid_851.jpg', '../validate/img_valid_852.jpg', '../validate/img_valid_853.jpg', '../validate/img_valid_854.jpg', '../validate/img_valid_855.jpg', '../validate/img_valid_856.jpg', '../validate/img_valid_857.jpg', '../validate/img_valid_858.jpg', '../validate/img_valid_859.jpg', '../validate/img_valid_86.jpg', '../validate/img_valid_860.jpg', '../validate/img_valid_861.jpg', '../validate/img_valid_862.jpg', '../validate/img_valid_863.jpg', '../validate/img_valid_864.jpg', '../validate/img_valid_865.jpg', '../validate/img_valid_866.jpg', '../validate/img_valid_867.jpg', '../validate/img_valid_868.jpg', '../validate/img_valid_869.jpg', '../validate/img_valid_87.jpg', '../validate/img_valid_870.jpg', '../validate/img_valid_871.jpg', '../validate/img_valid_872.jpg', '../validate/img_valid_873.jpg', '../validate/img_valid_874.jpg', '../validate/img_valid_875.jpg', '../validate/img_valid_876.jpg', '../validate/img_valid_877.jpg', '../validate/img_valid_878.jpg', '../validate/img_valid_879.jpg', '../validate/img_valid_88.jpg', '../validate/img_valid_880.jpg', '../validate/img_valid_881.jpg', '../validate/img_valid_882.jpg', '../validate/img_valid_883.jpg', '../validate/img_valid_884.jpg', '../validate/img_valid_885.jpg', '../validate/img_valid_886.jpg', '../validate/img_valid_887.jpg', '../validate/img_valid_888.jpg', '../validate/img_valid_889.jpg', '../validate/img_valid_89.jpg', '../validate/img_valid_890.jpg', '../validate/img_valid_891.jpg', '../validate/img_valid_892.jpg', '../validate/img_valid_893.jpg', '../validate/img_valid_894.jpg', '../validate/img_valid_895.jpg', '../validate/img_valid_896.jpg', '../validate/img_valid_897.jpg', '../validate/img_valid_898.jpg', '../validate/img_valid_899.jpg', '../validate/img_valid_9.jpg', '../validate/img_valid_90.jpg', '../validate/img_valid_900.jpg', '../validate/img_valid_901.jpg', '../validate/img_valid_902.jpg', '../validate/img_valid_903.jpg', '../validate/img_valid_904.jpg', '../validate/img_valid_905.jpg', '../validate/img_valid_906.jpg', '../validate/img_valid_907.jpg', '../validate/img_valid_908.jpg', '../validate/img_valid_909.jpg', '../validate/img_valid_91.jpg', '../validate/img_valid_910.jpg', '../validate/img_valid_911.jpg', '../validate/img_valid_912.jpg', '../validate/img_valid_913.jpg', '../validate/img_valid_914.jpg', '../validate/img_valid_915.jpg', '../validate/img_valid_916.jpg', '../validate/img_valid_917.jpg', '../validate/img_valid_918.jpg', '../validate/img_valid_919.jpg', '../validate/img_valid_92.jpg', '../validate/img_valid_920.jpg', '../validate/img_valid_921.jpg', '../validate/img_valid_922.jpg', '../validate/img_valid_923.jpg', '../validate/img_valid_924.jpg', '../validate/img_valid_925.jpg', '../validate/img_valid_926.jpg', '../validate/img_valid_927.jpg', '../validate/img_valid_928.jpg', '../validate/img_valid_929.jpg', '../validate/img_valid_93.jpg', '../validate/img_valid_930.jpg', '../validate/img_valid_931.jpg', '../validate/img_valid_932.jpg', '../validate/img_valid_933.jpg', '../validate/img_valid_934.jpg', '../validate/img_valid_935.jpg', '../validate/img_valid_936.jpg', '../validate/img_valid_937.jpg', '../validate/img_valid_938.jpg', '../validate/img_valid_939.jpg', '../validate/img_valid_94.jpg', '../validate/img_valid_940.jpg', '../validate/img_valid_941.jpg', '../validate/img_valid_942.jpg', '../validate/img_valid_943.jpg', '../validate/img_valid_944.jpg', '../validate/img_valid_945.jpg', '../validate/img_valid_946.jpg', '../validate/img_valid_947.jpg', '../validate/img_valid_948.jpg', '../validate/img_valid_949.jpg', '../validate/img_valid_95.jpg', '../validate/img_valid_950.jpg', '../validate/img_valid_951.jpg', '../validate/img_valid_952.jpg', '../validate/img_valid_953.jpg', '../validate/img_valid_954.jpg', '../validate/img_valid_955.jpg', '../validate/img_valid_956.jpg', '../validate/img_valid_957.jpg', '../validate/img_valid_958.jpg', '../validate/img_valid_959.jpg', '../validate/img_valid_96.jpg', '../validate/img_valid_960.jpg', '../validate/img_valid_961.jpg', '../validate/img_valid_962.jpg', '../validate/img_valid_963.jpg', '../validate/img_valid_964.jpg', '../validate/img_valid_965.jpg', '../validate/img_valid_966.jpg', '../validate/img_valid_967.jpg', '../validate/img_valid_968.jpg', '../validate/img_valid_969.jpg', '../validate/img_valid_97.jpg', '../validate/img_valid_970.jpg', '../validate/img_valid_971.jpg', '../validate/img_valid_972.jpg', '../validate/img_valid_973.jpg', '../validate/img_valid_974.jpg', '../validate/img_valid_975.jpg', '../validate/img_valid_976.jpg', '../validate/img_valid_977.jpg', '../validate/img_valid_978.jpg', '../validate/img_valid_979.jpg', '../validate/img_valid_98.jpg', '../validate/img_valid_980.jpg', '../validate/img_valid_981.jpg', '../validate/img_valid_982.jpg', '../validate/img_valid_983.jpg', '../validate/img_valid_984.jpg', '../validate/img_valid_985.jpg', '../validate/img_valid_986.jpg', '../validate/img_valid_987.jpg', '../validate/img_valid_988.jpg', '../validate/img_valid_989.jpg', '../validate/img_valid_99.jpg', '../validate/img_valid_990.jpg', '../validate/img_valid_991.jpg', '../validate/img_valid_992.jpg', '../validate/img_valid_993.jpg', '../validate/img_valid_994.jpg', '../validate/img_valid_995.jpg', '../validate/img_valid_996.jpg', '../validate/img_valid_997.jpg', '../validate/img_valid_998.jpg', '../validate/img_valid_999.jpg']\n"
     ]
    }
   ],
   "source": [
    "res1=getimagedata(path)\n",
    "print res1"
   ]
  },
  {
   "cell_type": "code",
   "execution_count": 37,
   "metadata": {
    "collapsed": false
   },
   "outputs": [
    {
     "name": "stdout",
     "output_type": "stream",
     "text": [
      "0\n",
      "100\n",
      "200\n",
      "300\n",
      "400\n",
      "500\n",
      "600\n",
      "700\n",
      "800\n",
      "900\n",
      "1000\n",
      "1100\n",
      "1200\n",
      "1300\n",
      "1400\n",
      "1500\n",
      "1600\n",
      "1700\n",
      "1800\n",
      "1900\n"
     ]
    }
   ],
   "source": [
    "res2=siftprocessimage(res1[1:])"
   ]
  },
  {
   "cell_type": "code",
   "execution_count": 40,
   "metadata": {
    "collapsed": false
   },
   "outputs": [
    {
     "name": "stdout",
     "output_type": "stream",
     "text": [
      "0\n",
      "100\n",
      "200\n",
      "300\n",
      "400\n",
      "500\n",
      "600\n",
      "700\n",
      "800\n",
      "900\n",
      "1000\n",
      "1100\n",
      "1200\n",
      "1300\n",
      "1400\n",
      "1500\n",
      "1600\n",
      "1700\n",
      "1800\n",
      "1900\n",
      "302.603444099\n"
     ]
    }
   ],
   "source": [
    "start=time.time()\n",
    "r4=train(res2,res1[1:],vocc)\n",
    "\n",
    "end=time.time()\n",
    "print ((end-start))"
   ]
  },
  {
   "cell_type": "code",
   "execution_count": 41,
   "metadata": {
    "collapsed": false
   },
   "outputs": [],
   "source": [
    "f=open('featuresift_2000_800_new.txt','w')\n",
    "for i in r4:\n",
    "  a=str(i.tolist())\n",
    "  f.write(a+'\\n')\n",
    "    \n",
    "f.close()\n"
   ]
  }
 ],
 "metadata": {
  "kernelspec": {
   "display_name": "Python 2",
   "language": "python",
   "name": "python2"
  },
  "language_info": {
   "codemirror_mode": {
    "name": "ipython",
    "version": 2
   },
   "file_extension": ".py",
   "mimetype": "text/x-python",
   "name": "python",
   "nbconvert_exporter": "python",
   "pygments_lexer": "ipython2",
   "version": "2.7.11"
  }
 },
 "nbformat": 4,
 "nbformat_minor": 0
}
